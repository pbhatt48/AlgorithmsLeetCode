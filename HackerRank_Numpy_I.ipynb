{
  "nbformat": 4,
  "nbformat_minor": 0,
  "metadata": {
    "colab": {
      "name": "HackerRank_Numpy_I.ipynb",
      "provenance": [],
      "collapsed_sections": [],
      "authorship_tag": "ABX9TyNP/JNl1H6tkbxR2b6MsIeg",
      "include_colab_link": true
    },
    "kernelspec": {
      "name": "python3",
      "display_name": "Python 3"
    }
  },
  "cells": [
    {
      "cell_type": "markdown",
      "metadata": {
        "id": "view-in-github",
        "colab_type": "text"
      },
      "source": [
        "<a href=\"https://colab.research.google.com/github/pbhatt48/AlgorithmsLeetCode/blob/main/HackerRank_Numpy_I.ipynb\" target=\"_parent\"><img src=\"https://colab.research.google.com/assets/colab-badge.svg\" alt=\"Open In Colab\"/></a>"
      ]
    },
    {
      "cell_type": "code",
      "metadata": {
        "id": "eL1Ne8IOwqGb"
      },
      "source": [
        ""
      ],
      "execution_count": null,
      "outputs": []
    },
    {
      "cell_type": "markdown",
      "metadata": {
        "id": "CcAOCwcFwvO6"
      },
      "source": [
        "Arrays\n",
        "\n",
        "A NumPy array is a grid of values. They are similar to lists, except that every element of an array must be the same type.\n",
        "\n",
        "import numpy\n",
        "\n",
        "a = numpy.array([1,2,3,4,5])\n",
        "print a[1]          #2\n",
        "\n",
        "b = numpy.array([1,2,3,4,5],float)\n",
        "print b[1]          #2.0\n",
        "In the above example, numpy.array() is used to convert a list into a NumPy array. The second argument (float) can be used to set the type of array elements.\n",
        "\n",
        "Task\n",
        "\n",
        "You are given a space separated list of numbers.\n",
        "Your task is to print a reversed NumPy array with the element type float.\n",
        "\n",
        "Input Format\n",
        "\n",
        "A single line of input containing space separated numbers.\n",
        "\n",
        "Output Format\n",
        "\n",
        "Print the reverse NumPy array with type float.\n",
        "\n",
        "Sample Input\n",
        "\n",
        "1 2 3 4 -8 -10\n",
        "Sample Output\n",
        "\n",
        "[-10.  -8.   4.   3.   2.   1.]"
      ]
    },
    {
      "cell_type": "code",
      "metadata": {
        "colab": {
          "base_uri": "https://localhost:8080/"
        },
        "id": "K0n7Hsiew24D",
        "outputId": "debc99b4-e214-45a7-da29-2125d0a6c622"
      },
      "source": [
        "import numpy as np\n",
        "\n",
        "def arrays(arr):\n",
        "    # complete this function\n",
        "    # use numpy.array\n",
        "    myarr = (np.array(arr[::-1], float))\n",
        "    print(type(myarr))\n",
        "    return myarr\n",
        "\n",
        "arr = np.array([1, 2, 3, 4, -8, -10])\n",
        "result = arrays(arr)\n",
        "print(result)"
      ],
      "execution_count": 11,
      "outputs": [
        {
          "output_type": "stream",
          "text": [
            "<class 'numpy.ndarray'>\n",
            "[-10.  -8.   4.   3.   2.   1.]\n"
          ],
          "name": "stdout"
        }
      ]
    },
    {
      "cell_type": "code",
      "metadata": {
        "id": "1fcEApq3w8P0"
      },
      "source": [
        ""
      ],
      "execution_count": null,
      "outputs": []
    },
    {
      "cell_type": "markdown",
      "metadata": {
        "id": "MRHf6jpI0WKw"
      },
      "source": [
        "shape\n",
        "\n",
        "The shape tool gives a tuple of array dimensions and can be used to change the dimensions of an array.\n",
        "\n",
        "(a). Using shape to get array dimensions\n",
        "\n",
        "import numpy\n",
        "\n",
        "my__1D_array = numpy.array([1, 2, 3, 4, 5])\n",
        "print my_1D_array.shape     #(5,) -> 1 row and 5 columns\n",
        "\n",
        "my__2D_array = numpy.array([[1, 2],[3, 4],[6,5]])\n",
        "print my_2D_array.shape     #(3, 2) -> 3 rows and 2 columns \n",
        "(b). Using shape to change array dimensions\n",
        "\n",
        "import numpy\n",
        "\n",
        "change_array = numpy.array([1,2,3,4,5,6])\n",
        "change_array.shape = (3, 2)\n",
        "print change_array      \n",
        "\n",
        "#Output\n",
        "[[1 2]\n",
        "[3 4]\n",
        "[5 6]]\n",
        "reshape\n",
        "\n",
        "The reshape tool gives a new shape to an array without changing its data. It creates a new array and does not modify the original array itself.\n",
        "\n",
        "import numpy\n",
        "\n",
        "my_array = numpy.array([1,2,3,4,5,6])\n",
        "print numpy.reshape(my_array,(3,2))\n",
        "\n",
        "#Output\n",
        "[[1 2]\n",
        "[3 4]\n",
        "[5 6]]\n",
        "Task\n",
        "\n",
        "You are given a space separated list of nine integers. Your task is to convert this list into a X NumPy array.\n",
        "\n",
        "Input Format\n",
        "\n",
        "A single line of input containing  space separated integers.\n",
        "\n",
        "Output Format\n",
        "\n",
        "Print the X NumPy array.\n",
        "\n",
        "Sample Input\n",
        "\n",
        "1 2 3 4 5 6 7 8 9\n",
        "Sample Output\n",
        "\n",
        "[[1 2 3]\n",
        " [4 5 6]\n",
        " [7 8 9]]"
      ]
    },
    {
      "cell_type": "code",
      "metadata": {
        "colab": {
          "base_uri": "https://localhost:8080/"
        },
        "id": "SugKM2I00Wus",
        "outputId": "6b41146e-ed60-4785-e81b-c1181756e1d2"
      },
      "source": [
        "import numpy\n",
        "\n",
        "def arrays(arr):\n",
        "    # complete this function\n",
        "    # use numpy.array\n",
        "    return(numpy.array(arr.reshape(3,3), int))\n",
        "\n",
        "#arr = input().strip().split(' ')\n",
        "arr = np.array([1, 2, 3, 4, -8, -10,1,2,3])\n",
        "result = arrays(numpy.array(arr))\n",
        "print(result)"
      ],
      "execution_count": 13,
      "outputs": [
        {
          "output_type": "stream",
          "text": [
            "[[  1   2   3]\n",
            " [  4  -8 -10]\n",
            " [  1   2   3]]\n"
          ],
          "name": "stdout"
        }
      ]
    },
    {
      "cell_type": "code",
      "metadata": {
        "id": "85aOTgmF2zSF"
      },
      "source": [
        ""
      ],
      "execution_count": null,
      "outputs": []
    },
    {
      "cell_type": "markdown",
      "metadata": {
        "id": "y-VXOGo6GiKg"
      },
      "source": [
        "https://www.hackerrank.com/challenges/np-transpose-and-flatten/problem?h_r=next-challenge&h_v=zen\n",
        "\n",
        "Transpose\n",
        "\n",
        "We can generate the transposition of an array using the tool numpy.transpose.\n",
        "It will not affect the original array, but it will create a new array.\n",
        "\n",
        "import numpy\n",
        "\n",
        "my_array = numpy.array([[1,2,3],\n",
        "                        [4,5,6]])\n",
        "print numpy.transpose(my_array)\n",
        "\n",
        "#Output\n",
        "[[1 4]\n",
        " [2 5]\n",
        " [3 6]]\n",
        "Flatten\n",
        "\n",
        "The tool flatten creates a copy of the input array flattened to one dimension.\n",
        "\n",
        "import numpy\n",
        "\n",
        "my_array = numpy.array([[1,2,3],\n",
        "                        [4,5,6]])\n",
        "print my_array.flatten()\n",
        "\n",
        "#Output\n",
        "[1 2 3 4 5 6]\n",
        "Task\n",
        "\n",
        "You are given a X integer array matrix with space separated elements ( = rows and  = columns).\n",
        "Your task is to print the transpose and flatten results.\n",
        "\n",
        "Input Format\n",
        "\n",
        "The first line contains the space separated values of  and .\n",
        "The next  lines contains the space separated elements of  columns.\n",
        "\n",
        "Output Format\n",
        "\n",
        "First, print the transpose array and then print the flatten.\n",
        "\n",
        "Sample Input\n",
        "\n",
        "2 2\n",
        "1 2\n",
        "3 4\n",
        "Sample Output\n",
        "\n",
        "[[1 3]\n",
        " [2 4]]\n",
        "[1 2 3 4]"
      ]
    },
    {
      "cell_type": "code",
      "metadata": {
        "colab": {
          "base_uri": "https://localhost:8080/"
        },
        "id": "AfR-9b7JGizR",
        "outputId": "5449a402-c9eb-4303-fc59-2ce50e440c00"
      },
      "source": [
        "import numpy as np\n",
        "\n",
        "row , column = input().split()\n",
        "print(\"ROW == \", row)\n",
        "my_array = []\n",
        "for i in range(int(row)):\n",
        "  #rg = input().split()\n",
        "  val = [i for i in input().split()]\n",
        "  my_array.append(val)\n",
        "my_array = np.array(my_array, int)\n",
        "print(np.transpose(my_array))\n",
        "print(my_array.flatten())\n",
        "\n"
      ],
      "execution_count": 73,
      "outputs": [
        {
          "output_type": "stream",
          "text": [
            "3 3\n",
            "ROW ==  3\n",
            "1 2 3\n",
            "4 5 6\n",
            "7 8 9\n",
            "[[1 4 7]\n",
            " [2 5 8]\n",
            " [3 6 9]]\n",
            "[1 2 3 4 5 6 7 8 9]\n"
          ],
          "name": "stdout"
        }
      ]
    },
    {
      "cell_type": "code",
      "metadata": {
        "id": "eJQ9BEUyG5-X"
      },
      "source": [
        ""
      ],
      "execution_count": 73,
      "outputs": []
    },
    {
      "cell_type": "markdown",
      "metadata": {
        "id": "dT5r5bsuf-JQ"
      },
      "source": [
        "Concatenate:\n",
        "https://www.hackerrank.com/challenges/np-concatenate/problem\n",
        "\n",
        "Two or more arrays can be concatenated together using the concatenate function with a tuple of the arrays to be joined:\n",
        "\n",
        "import numpy\n",
        "\n",
        "array_1 = numpy.array([1,2,3])\n",
        "array_2 = numpy.array([4,5,6])\n",
        "array_3 = numpy.array([7,8,9])\n",
        "\n",
        "print numpy.concatenate((array_1, array_2, array_3))    \n",
        "\n",
        "#Output\n",
        "[1 2 3 4 5 6 7 8 9]\n",
        "If an array has more than one dimension, it is possible to specify the axis along which multiple arrays are concatenated. By default, it is along the first dimension.\n",
        "\n",
        "import numpy\n",
        "\n",
        "array_1 = numpy.array([[1,2,3],[0,0,0]])\n",
        "array_2 = numpy.array([[0,0,0],[7,8,9]])\n",
        "\n",
        "print numpy.concatenate((array_1, array_2), axis = 1)   \n",
        "\n",
        "#Output\n",
        "[[1 2 3 0 0 0]\n",
        " [0 0 0 7 8 9]]    \n",
        "Task\n",
        "\n",
        "You are given two integer arrays of size X and X ( &  are rows, and  is the column). Your task is to concatenate the arrays along axis .\n",
        "\n",
        "Input Format\n",
        "\n",
        "The first line contains space separated integers ,  and .\n",
        "The next  lines contains the space separated elements of the  columns.\n",
        "After that, the next  lines contains the space separated elements of the  columns.\n",
        "\n",
        "Output Format\n",
        "\n",
        "Print the concatenated array of size X.\n",
        "\n",
        "Sample Input\n",
        "\n",
        "4 3 2\n",
        "1 2\n",
        "1 2 \n",
        "1 2\n",
        "1 2\n",
        "3 4\n",
        "3 4\n",
        "3 4 \n",
        "Sample Output\n",
        "\n",
        "[[1 2]\n",
        " [1 2]\n",
        " [1 2]\n",
        " [1 2]\n",
        " [3 4]\n",
        " [3 4]\n",
        " [3 4]] "
      ]
    },
    {
      "cell_type": "code",
      "metadata": {
        "colab": {
          "base_uri": "https://localhost:8080/"
        },
        "id": "vgvFowj6MsH_",
        "outputId": "0303b860-9c57-4d7a-970c-dd0609e21531"
      },
      "source": [
        "import numpy as np\n",
        "n, m, p = input().split()\n",
        "npx = []\n",
        "for i in range(int(n)):\n",
        "  val = [k for k in input().split()]\n",
        "  #print(\"VAL ==\", val)  \n",
        "  npx.append(val)\n",
        "npx = np.array(npx, int)\n",
        "\n",
        "mpx = []\n",
        "for j in range(int(m)):\n",
        "  val = [k for k in input().split()]\n",
        "  #print(\"VAL ==\", val)  \n",
        "  mpx.append(val)\n",
        "mpx = np.array(mpx, int)\n",
        "\n",
        "\n",
        "print(np.concatenate((npx, mpx), axis=0))\n"
      ],
      "execution_count": 85,
      "outputs": [
        {
          "output_type": "stream",
          "text": [
            "4 3 2\n",
            "1 2\n",
            "VAL == ['1', '2']\n",
            "1 2\n",
            "VAL == ['1', '2']\n",
            "1 2\n",
            "VAL == ['1', '2']\n",
            "1 2\n",
            "VAL == ['1', '2']\n",
            "3 4\n",
            "VAL == ['3', '4']\n",
            "3 4\n",
            "VAL == ['3', '4']\n",
            "3 4\n",
            "VAL == ['3', '4']\n",
            "[[1 2]\n",
            " [1 2]\n",
            " [1 2]\n",
            " [1 2]\n",
            " [3 4]\n",
            " [3 4]\n",
            " [3 4]]\n"
          ],
          "name": "stdout"
        }
      ]
    },
    {
      "cell_type": "code",
      "metadata": {
        "id": "xKo376kkQmYH"
      },
      "source": [
        ""
      ],
      "execution_count": 85,
      "outputs": []
    },
    {
      "cell_type": "markdown",
      "metadata": {
        "id": "QH6RNVM7j35S"
      },
      "source": [
        "zeros:\n",
        "https://www.hackerrank.com/challenges/np-zeros-and-ones/problem\n",
        "\n",
        "The zeros tool returns a new array with a given shape and type filled with 's.\n",
        "\n",
        "import numpy\n",
        "\n",
        "print numpy.zeros((1,2))                    #Default type is float\n",
        "#Output : [[ 0.  0.]] \n",
        "\n",
        "print numpy.zeros((1,2), dtype = numpy.int) #Type changes to int\n",
        "#Output : [[0 0]]\n",
        "ones\n",
        "\n",
        "The ones tool returns a new array with a given shape and type filled with 's.\n",
        "\n",
        "import numpy\n",
        "\n",
        "print numpy.ones((1,2))                    #Default type is float\n",
        "#Output : [[ 1.  1.]] \n",
        "\n",
        "print numpy.ones((1,2), dtype = numpy.int) #Type changes to int\n",
        "#Output : [[1 1]]   \n",
        "Task\n",
        "\n",
        "You are given the shape of the array in the form of space-separated integers, each integer representing the size of different dimensions, your task is to print an array of the given shape and integer type using the tools numpy.zeros and numpy.ones.\n",
        "\n",
        "Input Format\n",
        "\n",
        "A single line containing the space-separated integers.\n",
        "\n",
        "Constraints\n",
        "\n",
        "\n",
        "Output Format\n",
        "\n",
        "First, print the array using the numpy.zeros tool and then print the array with the numpy.ones tool.\n",
        "\n",
        "Sample Input 0\n",
        "\n",
        "3 3 3\n",
        "Sample Output 0\n",
        "\n",
        "[[[0 0 0]\n",
        "  [0 0 0]\n",
        "  [0 0 0]]\n",
        "\n",
        " [[0 0 0]\n",
        "  [0 0 0]\n",
        "  [0 0 0]]\n",
        "\n",
        " [[0 0 0]\n",
        "  [0 0 0]\n",
        "  [0 0 0]]]\n",
        "[[[1 1 1]\n",
        "  [1 1 1]\n",
        "  [1 1 1]]\n",
        "\n",
        " [[1 1 1]\n",
        "  [1 1 1]\n",
        "  [1 1 1]]\n",
        "\n",
        " [[1 1 1]\n",
        "  [1 1 1]\n",
        "  [1 1 1]]]\n",
        "Explanation 0\n",
        "\n",
        "Print the array built using numpy.zeros and numpy.ones tools and you get the result as shown."
      ]
    },
    {
      "cell_type": "code",
      "metadata": {
        "colab": {
          "base_uri": "https://localhost:8080/"
        },
        "id": "4vcLyu9IVH79",
        "outputId": "9e99cdb9-fe14-439a-eb13-814f9ece749a"
      },
      "source": [
        "import numpy as np\n",
        "nums = tuple(map(int, input().split()))\n",
        "#print(nums)\n",
        "print (np.zeros(nums, dtype = np.int))\n",
        "print (np.ones(nums, dtype = np.int))"
      ],
      "execution_count": 99,
      "outputs": [
        {
          "output_type": "stream",
          "text": [
            "3 3 3\n",
            "[[[0 0 0]\n",
            "  [0 0 0]\n",
            "  [0 0 0]]\n",
            "\n",
            " [[0 0 0]\n",
            "  [0 0 0]\n",
            "  [0 0 0]]\n",
            "\n",
            " [[0 0 0]\n",
            "  [0 0 0]\n",
            "  [0 0 0]]]\n",
            "[[[1 1 1]\n",
            "  [1 1 1]\n",
            "  [1 1 1]]\n",
            "\n",
            " [[1 1 1]\n",
            "  [1 1 1]\n",
            "  [1 1 1]]\n",
            "\n",
            " [[1 1 1]\n",
            "  [1 1 1]\n",
            "  [1 1 1]]]\n"
          ],
          "name": "stdout"
        }
      ]
    },
    {
      "cell_type": "code",
      "metadata": {
        "id": "Sc2x9Nu8kSNc"
      },
      "source": [
        ""
      ],
      "execution_count": 99,
      "outputs": []
    },
    {
      "cell_type": "code",
      "metadata": {
        "id": "vuYpCKl3nvxd"
      },
      "source": [
        ""
      ],
      "execution_count": null,
      "outputs": []
    }
  ]
}