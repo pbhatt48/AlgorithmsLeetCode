{
  "nbformat": 4,
  "nbformat_minor": 0,
  "metadata": {
    "colab": {
      "name": "HackerRank_Numpy_I.ipynb",
      "provenance": [],
      "authorship_tag": "ABX9TyPDO00TxNlG0yv5OyhpXQC5",
      "include_colab_link": true
    },
    "kernelspec": {
      "name": "python3",
      "display_name": "Python 3"
    }
  },
  "cells": [
    {
      "cell_type": "markdown",
      "metadata": {
        "id": "view-in-github",
        "colab_type": "text"
      },
      "source": [
        "<a href=\"https://colab.research.google.com/github/pbhatt48/AlgorithmsLeetCode/blob/main/HackerRank_Numpy_I.ipynb\" target=\"_parent\"><img src=\"https://colab.research.google.com/assets/colab-badge.svg\" alt=\"Open In Colab\"/></a>"
      ]
    },
    {
      "cell_type": "code",
      "metadata": {
        "id": "eL1Ne8IOwqGb"
      },
      "source": [
        ""
      ],
      "execution_count": null,
      "outputs": []
    },
    {
      "cell_type": "markdown",
      "metadata": {
        "id": "CcAOCwcFwvO6"
      },
      "source": [
        "Arrays\n",
        "\n",
        "A NumPy array is a grid of values. They are similar to lists, except that every element of an array must be the same type.\n",
        "\n",
        "import numpy\n",
        "\n",
        "a = numpy.array([1,2,3,4,5])\n",
        "print a[1]          #2\n",
        "\n",
        "b = numpy.array([1,2,3,4,5],float)\n",
        "print b[1]          #2.0\n",
        "In the above example, numpy.array() is used to convert a list into a NumPy array. The second argument (float) can be used to set the type of array elements.\n",
        "\n",
        "Task\n",
        "\n",
        "You are given a space separated list of numbers.\n",
        "Your task is to print a reversed NumPy array with the element type float.\n",
        "\n",
        "Input Format\n",
        "\n",
        "A single line of input containing space separated numbers.\n",
        "\n",
        "Output Format\n",
        "\n",
        "Print the reverse NumPy array with type float.\n",
        "\n",
        "Sample Input\n",
        "\n",
        "1 2 3 4 -8 -10\n",
        "Sample Output\n",
        "\n",
        "[-10.  -8.   4.   3.   2.   1.]"
      ]
    },
    {
      "cell_type": "code",
      "metadata": {
        "colab": {
          "base_uri": "https://localhost:8080/"
        },
        "id": "K0n7Hsiew24D",
        "outputId": "debc99b4-e214-45a7-da29-2125d0a6c622"
      },
      "source": [
        "import numpy as np\n",
        "\n",
        "def arrays(arr):\n",
        "    # complete this function\n",
        "    # use numpy.array\n",
        "    myarr = (np.array(arr[::-1], float))\n",
        "    print(type(myarr))\n",
        "    return myarr\n",
        "\n",
        "arr = np.array([1, 2, 3, 4, -8, -10])\n",
        "result = arrays(arr)\n",
        "print(result)"
      ],
      "execution_count": 11,
      "outputs": [
        {
          "output_type": "stream",
          "text": [
            "<class 'numpy.ndarray'>\n",
            "[-10.  -8.   4.   3.   2.   1.]\n"
          ],
          "name": "stdout"
        }
      ]
    },
    {
      "cell_type": "code",
      "metadata": {
        "id": "1fcEApq3w8P0"
      },
      "source": [
        ""
      ],
      "execution_count": null,
      "outputs": []
    },
    {
      "cell_type": "markdown",
      "metadata": {
        "id": "MRHf6jpI0WKw"
      },
      "source": [
        "shape\n",
        "\n",
        "The shape tool gives a tuple of array dimensions and can be used to change the dimensions of an array.\n",
        "\n",
        "(a). Using shape to get array dimensions\n",
        "\n",
        "import numpy\n",
        "\n",
        "my__1D_array = numpy.array([1, 2, 3, 4, 5])\n",
        "print my_1D_array.shape     #(5,) -> 1 row and 5 columns\n",
        "\n",
        "my__2D_array = numpy.array([[1, 2],[3, 4],[6,5]])\n",
        "print my_2D_array.shape     #(3, 2) -> 3 rows and 2 columns \n",
        "(b). Using shape to change array dimensions\n",
        "\n",
        "import numpy\n",
        "\n",
        "change_array = numpy.array([1,2,3,4,5,6])\n",
        "change_array.shape = (3, 2)\n",
        "print change_array      \n",
        "\n",
        "#Output\n",
        "[[1 2]\n",
        "[3 4]\n",
        "[5 6]]\n",
        "reshape\n",
        "\n",
        "The reshape tool gives a new shape to an array without changing its data. It creates a new array and does not modify the original array itself.\n",
        "\n",
        "import numpy\n",
        "\n",
        "my_array = numpy.array([1,2,3,4,5,6])\n",
        "print numpy.reshape(my_array,(3,2))\n",
        "\n",
        "#Output\n",
        "[[1 2]\n",
        "[3 4]\n",
        "[5 6]]\n",
        "Task\n",
        "\n",
        "You are given a space separated list of nine integers. Your task is to convert this list into a X NumPy array.\n",
        "\n",
        "Input Format\n",
        "\n",
        "A single line of input containing  space separated integers.\n",
        "\n",
        "Output Format\n",
        "\n",
        "Print the X NumPy array.\n",
        "\n",
        "Sample Input\n",
        "\n",
        "1 2 3 4 5 6 7 8 9\n",
        "Sample Output\n",
        "\n",
        "[[1 2 3]\n",
        " [4 5 6]\n",
        " [7 8 9]]"
      ]
    },
    {
      "cell_type": "code",
      "metadata": {
        "colab": {
          "base_uri": "https://localhost:8080/"
        },
        "id": "SugKM2I00Wus",
        "outputId": "6b41146e-ed60-4785-e81b-c1181756e1d2"
      },
      "source": [
        "import numpy\n",
        "\n",
        "def arrays(arr):\n",
        "    # complete this function\n",
        "    # use numpy.array\n",
        "    return(numpy.array(arr.reshape(3,3), int))\n",
        "\n",
        "#arr = input().strip().split(' ')\n",
        "arr = np.array([1, 2, 3, 4, -8, -10,1,2,3])\n",
        "result = arrays(numpy.array(arr))\n",
        "print(result)"
      ],
      "execution_count": 13,
      "outputs": [
        {
          "output_type": "stream",
          "text": [
            "[[  1   2   3]\n",
            " [  4  -8 -10]\n",
            " [  1   2   3]]\n"
          ],
          "name": "stdout"
        }
      ]
    },
    {
      "cell_type": "code",
      "metadata": {
        "id": "85aOTgmF2zSF"
      },
      "source": [
        ""
      ],
      "execution_count": null,
      "outputs": []
    }
  ]
}