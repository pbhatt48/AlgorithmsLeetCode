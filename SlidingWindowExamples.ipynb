{
  "nbformat": 4,
  "nbformat_minor": 0,
  "metadata": {
    "colab": {
      "name": "SlidingWindowExamples.ipynb",
      "provenance": [],
      "authorship_tag": "ABX9TyOw1Ie3K2RwBY312kWvUQ2f",
      "include_colab_link": true
    },
    "kernelspec": {
      "name": "python3",
      "display_name": "Python 3"
    }
  },
  "cells": [
    {
      "cell_type": "markdown",
      "metadata": {
        "id": "view-in-github",
        "colab_type": "text"
      },
      "source": [
        "<a href=\"https://colab.research.google.com/github/pbhatt48/AlgorithmsLeetCode/blob/main/SlidingWindowExamples.ipynb\" target=\"_parent\"><img src=\"https://colab.research.google.com/assets/colab-badge.svg\" alt=\"Open In Colab\"/></a>"
      ]
    },
    {
      "cell_type": "code",
      "metadata": {
        "id": "yVRfClOywzVP"
      },
      "source": [
        ""
      ],
      "execution_count": null,
      "outputs": []
    },
    {
      "cell_type": "markdown",
      "metadata": {
        "id": "D7JSClE9xJHM"
      },
      "source": [
        "Practicing these problems:\n",
        "https://medium.com/leetcode-patterns/leetcode-pattern-2-sliding-windows-for-strings-e19af105316b\n"
      ]
    },
    {
      "cell_type": "code",
      "metadata": {
        "id": "fdhEPzRVxLVn"
      },
      "source": [
        ""
      ],
      "execution_count": null,
      "outputs": []
    },
    {
      "cell_type": "markdown",
      "metadata": {
        "id": "XlaV-hB0xTz0"
      },
      "source": [
        "Problem 1:\n",
        "Given an array of integers of size ‘n’.\n",
        "Our aim is to calculate the maximum sum possible for ‘k’ consecutive elements in the array.\n",
        "\n",
        "Input  : arr[] = {100, 200, 300, 400}\n",
        "         k = 2\n",
        "Output : 700"
      ]
    },
    {
      "cell_type": "code",
      "metadata": {
        "colab": {
          "base_uri": "https://localhost:8080/"
        },
        "id": "05xZFopaxVXP",
        "outputId": "c3c3a180-4c04-4a17-d004-25f2181b0c21"
      },
      "source": [
        "class MaxSum:\n",
        "  def calcSum(self, nums, k):\n",
        "    #print(\"Here\")\n",
        "    lg = len(nums)\n",
        "\n",
        "    sum_val = 0\n",
        "    for i in range(lg-k+1,lg):\n",
        "      temp_sum =0 \n",
        "      for j in range(k):\n",
        "        temp_sum += nums[i]\n",
        "        i -= 1\n",
        "      #temp_sum = nums[i] + nums[i-1]\n",
        "      if sum_val < temp_sum:\n",
        "        sum_val = temp_sum\n",
        "    return sum_val\n",
        "\n",
        "\n",
        "\n",
        "s = MaxSum()\n",
        "print(s.calcSum([1, 20, 3, 4, 45], 2))\n",
        "print(s.calcSum([100, 200, 300, 400], 2))\n",
        "print(s.calcSum([1, 20, 3, 4, 45], 3))\n",
        "print(s.calcSum([100, 200, 300, 400], 3))\n",
        "print(s.calcSum([1, 20, 3, 4, 15], 3))"
      ],
      "execution_count": null,
      "outputs": [
        {
          "output_type": "stream",
          "text": [
            "49\n",
            "700\n",
            "52\n",
            "900\n",
            "27\n"
          ],
          "name": "stdout"
        }
      ]
    },
    {
      "cell_type": "code",
      "metadata": {
        "id": "4mNEOjPKOYvj",
        "outputId": "eaad62e9-261a-4f76-d798-20ee8cd2817d",
        "colab": {
          "base_uri": "https://localhost:8080/"
        }
      },
      "source": [
        "class MaxSumSlide:\n",
        "  def calcSum(self, nums, k):\n",
        "    lg = len(nums)\n",
        "    tmp_sum = sum(nums[i] for i in range(k))\n",
        "    #print(tmp_sum)\n",
        "    max_sum = tmp_sum\n",
        "    print(\"TEM SUM and MAX SUM == \", tmp_sum, max_sum)\n",
        "\n",
        "    for i in range(lg-k):\n",
        "      tmp_sum = tmp_sum - nums[i] + nums[i+k]\n",
        "      max_sum = max(tmp_sum, max_sum)\n",
        "      print(\"TEM SUM and MAX SUM == \", tmp_sum, max_sum)\n",
        "    \n",
        "    return max_sum\n",
        "\n",
        "\n",
        "\n",
        "s = MaxSumSlide()\n",
        "print(s.calcSum([1, 20, 3, 4, 45], 2))\n",
        "print(s.calcSum([100, 200, 300, 400], 2))\n",
        "print(s.calcSum([1, 20, 3, 4, 45], 3))\n",
        "print(s.calcSum([100, 200, 300, 400], 3))\n",
        "print(s.calcSum([1, 20, 3, 4, 15], 3))"
      ],
      "execution_count": 5,
      "outputs": [
        {
          "output_type": "stream",
          "text": [
            "TEM SUM and MAX SUM ==  21 21\n",
            "TEM SUM and MAX SUM ==  23 23\n",
            "TEM SUM and MAX SUM ==  7 23\n",
            "TEM SUM and MAX SUM ==  49 49\n",
            "49\n",
            "TEM SUM and MAX SUM ==  300 300\n",
            "TEM SUM and MAX SUM ==  500 500\n",
            "TEM SUM and MAX SUM ==  700 700\n",
            "700\n",
            "TEM SUM and MAX SUM ==  24 24\n",
            "TEM SUM and MAX SUM ==  27 27\n",
            "TEM SUM and MAX SUM ==  52 52\n",
            "52\n",
            "TEM SUM and MAX SUM ==  600 600\n",
            "TEM SUM and MAX SUM ==  900 900\n",
            "900\n",
            "TEM SUM and MAX SUM ==  24 24\n",
            "TEM SUM and MAX SUM ==  27 27\n",
            "TEM SUM and MAX SUM ==  22 27\n",
            "27\n"
          ],
          "name": "stdout"
        }
      ]
    },
    {
      "cell_type": "code",
      "metadata": {
        "id": "a7Gd2-0DvUIV",
        "outputId": "d6678a93-3439-4e6e-c686-e0c30a27f7f7",
        "colab": {
          "base_uri": "https://localhost:8080/"
        }
      },
      "source": [
        "class MaxSumSlideVals:\n",
        "  def calcSum(self, nums, k):\n",
        "    lg = len(nums)\n",
        "    tmp_sum = sum(nums[i] for i in range(k))\n",
        "    val=[]\n",
        "    val = [nums[i] for i in range(k)]\n",
        "    mxm = tmp_sum\n",
        "    print(\"TEM SUM and MAX SUM and VAL == \", tmp_sum, mxm, val)\n",
        "\n",
        "    for i in range(lg - k):\n",
        "      tmp_sum = tmp_sum - nums[i] + nums[i+k]\n",
        "      if tmp_sum > mxm:\n",
        "        val = [nums[j] for j in range(i+1,i+k+1)]\n",
        "        mxm = tmp_sum\n",
        "      #mxm = max(tmp_sum, mxm)\n",
        "      print(\"TEM SUM and MAX SUM and VAL == \", tmp_sum, mxm, val)\n",
        "  \n",
        "    return mxm\n",
        "\n",
        "\n",
        "\n",
        "s = MaxSumSlideVals()\n",
        "print(s.calcSum([1, 20, 3, 4, 45], 2))\n",
        "print(s.calcSum([100, 200, 300, 400], 2))\n",
        "print(s.calcSum([1, 20, 3, 4, 45], 3))\n",
        "print(s.calcSum([100, 200, 300, 400], 3))\n",
        "print(s.calcSum([1, 20, 3, 4, 15], 3))"
      ],
      "execution_count": 12,
      "outputs": [
        {
          "output_type": "stream",
          "text": [
            "TEM SUM and MAX SUM and VAL ==  21 21 [1, 20]\n",
            "TEM SUM and MAX SUM and VAL ==  23 23 [20, 3]\n",
            "TEM SUM and MAX SUM and VAL ==  7 23 [20, 3]\n",
            "TEM SUM and MAX SUM and VAL ==  49 49 [4, 45]\n",
            "49\n",
            "TEM SUM and MAX SUM and VAL ==  300 300 [100, 200]\n",
            "TEM SUM and MAX SUM and VAL ==  500 500 [200, 300]\n",
            "TEM SUM and MAX SUM and VAL ==  700 700 [300, 400]\n",
            "700\n",
            "TEM SUM and MAX SUM and VAL ==  24 24 [1, 20, 3]\n",
            "TEM SUM and MAX SUM and VAL ==  27 27 [20, 3, 4]\n",
            "TEM SUM and MAX SUM and VAL ==  52 52 [3, 4, 45]\n",
            "52\n",
            "TEM SUM and MAX SUM and VAL ==  600 600 [100, 200, 300]\n",
            "TEM SUM and MAX SUM and VAL ==  900 900 [200, 300, 400]\n",
            "900\n",
            "TEM SUM and MAX SUM and VAL ==  24 24 [1, 20, 3]\n",
            "TEM SUM and MAX SUM and VAL ==  27 27 [20, 3, 4]\n",
            "TEM SUM and MAX SUM and VAL ==  22 27 [20, 3, 4]\n",
            "27\n"
          ],
          "name": "stdout"
        }
      ]
    },
    {
      "cell_type": "code",
      "metadata": {
        "id": "-pNnl_ygxn_A"
      },
      "source": [
        ""
      ],
      "execution_count": null,
      "outputs": []
    },
    {
      "cell_type": "markdown",
      "metadata": {
        "id": "Vipx6c1eXO3M"
      },
      "source": [
        "https://leetcode.com/problems/minimum-operations-to-reduce-x-to-zero/\n",
        "\n",
        "\n",
        "1658. Minimum Operations to Reduce X to Zero\n",
        "\n",
        "You are given an integer array nums and an integer x. In one operation, you can either remove the leftmost or the rightmost element from the array nums and subtract its value from x. Note that this modifies the array for future operations.\n",
        "\n",
        "Return the minimum number of operations to reduce x to exactly 0 if it's possible, otherwise, return -1.\n",
        "\n",
        " \n",
        "\n",
        "Example 1:\n",
        "\n",
        "Input: nums = [1,1,4,2,3], x = 5\n",
        "Output: 2\n",
        "Explanation: The optimal solution is to remove the last two elements to reduce x to zero.\n",
        "Example 2:\n",
        "\n",
        "Input: nums = [5,6,7,8,9], x = 4\n",
        "Output: -1\n",
        "Example 3:\n",
        "\n",
        "Input: nums = [3,2,20,1,1,3], x = 10\n",
        "Output: 5\n",
        "Explanation: The optimal solution is to remove the last three elements and the first two elements (5 operations in total) to reduce x to zero."
      ]
    },
    {
      "cell_type": "code",
      "metadata": {
        "id": "iS8A_hJqXQJ6"
      },
      "source": [
        ""
      ],
      "execution_count": null,
      "outputs": []
    }
  ]
}