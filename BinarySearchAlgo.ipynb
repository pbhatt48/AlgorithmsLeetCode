{
  "nbformat": 4,
  "nbformat_minor": 0,
  "metadata": {
    "colab": {
      "name": "BinarySearchAlgo.ipynb",
      "provenance": [],
      "collapsed_sections": [],
      "authorship_tag": "ABX9TyOfMs6kxwp7QMIPOIJdcUzl",
      "include_colab_link": true
    },
    "kernelspec": {
      "name": "python3",
      "display_name": "Python 3"
    }
  },
  "cells": [
    {
      "cell_type": "markdown",
      "metadata": {
        "id": "view-in-github",
        "colab_type": "text"
      },
      "source": [
        "<a href=\"https://colab.research.google.com/github/pbhatt48/AlgorithmsLeetCode/blob/main/BinarySearchAlgo.ipynb\" target=\"_parent\"><img src=\"https://colab.research.google.com/assets/colab-badge.svg\" alt=\"Open In Colab\"/></a>"
      ]
    },
    {
      "cell_type": "markdown",
      "metadata": {
        "id": "Eh-_9GA8Jqtu"
      },
      "source": [
        "SECTION 3 :: BINARY SEARCH"
      ]
    },
    {
      "cell_type": "code",
      "metadata": {
        "colab": {
          "base_uri": "https://localhost:8080/"
        },
        "id": "zsnK31QJJ98T",
        "outputId": "6c64fc80-80fb-4143-d261-960c54a143d3"
      },
      "source": [
        "##Binary Search\n",
        "\n",
        "def binarySearch(arr, target):\n",
        "  start = 0\n",
        "  end = len(arr) - 1\n",
        "  \n",
        "\n",
        "  while start <= end:\n",
        "    mp = (start+end)//2\n",
        "    if arr[mp] == target:\n",
        "      return mp\n",
        "    elif arr[mp] < target:\n",
        "      start = mp + 1\n",
        "    elif arr[mp] > target:\n",
        "      end = mp - 1\n",
        "  result = -1\n",
        "  return result \n",
        "\n",
        "arr = [ i for i in range(20)]\n",
        "arr = [1, 5 ,7 ,10, 13, 15, 16 ,20]\n",
        "target = 13\n",
        "\n",
        "\n",
        "result = binarySearch(arr, target)\n",
        "if result == -1:\n",
        "  print(\"Result not found\", result)\n",
        "else:\n",
        "  print(\"Target found :: \", result)"
      ],
      "execution_count": 14,
      "outputs": [
        {
          "output_type": "stream",
          "text": [
            "Target found ::  4\n"
          ],
          "name": "stdout"
        }
      ]
    },
    {
      "cell_type": "code",
      "metadata": {
        "colab": {
          "base_uri": "https://localhost:8080/"
        },
        "id": "JppDl_AUNhSo",
        "outputId": "be17c2d4-1293-4b0a-d814-88bd2a6c1021"
      },
      "source": [
        "binarySearch(arr, 21)"
      ],
      "execution_count": 15,
      "outputs": [
        {
          "output_type": "execute_result",
          "data": {
            "text/plain": [
              "-1"
            ]
          },
          "metadata": {
            "tags": []
          },
          "execution_count": 15
        }
      ]
    },
    {
      "cell_type": "markdown",
      "metadata": {
        "id": "7KFrqhx2JyA8"
      },
      "source": [
        "SECTION 4 ::: WINDOW SLIDE"
      ]
    },
    {
      "cell_type": "markdown",
      "metadata": {
        "id": "iPOdhgZHJ3H8"
      },
      "source": [
        "Brute Force"
      ]
    },
    {
      "cell_type": "code",
      "metadata": {
        "colab": {
          "base_uri": "https://localhost:8080/"
        },
        "id": "KWCy1g7IPLIs",
        "outputId": "f6c98597-beea-42c0-b5cc-cdf1b66a7f17"
      },
      "source": [
        "## Max sum array\n",
        "def maxSumArray(my_array, k):\n",
        "  max_sum = float('-inf') \n",
        "  n = len(my_array)\n",
        "  for i in range(n-k+1):\n",
        "    print(\"i == \" , i)\n",
        "    current_sum = 0\n",
        "    for j in range(k):\n",
        "      print(\" j == \", j)\n",
        "      current_sum += my_array[i+j]\n",
        "      print(\"current sum == \", current_sum)\n",
        "    max_sum = max(current_sum, max_sum)\n",
        "  return max_sum\n",
        "\n",
        "my_array = [80, -50, 390, 100,50,200]\n",
        "maxSumArray(my_array, 3)"
      ],
      "execution_count": 10,
      "outputs": [
        {
          "output_type": "stream",
          "text": [
            "i ==  0\n",
            " j ==  0\n",
            "current sum ==  80\n",
            " j ==  1\n",
            "current sum ==  30\n",
            " j ==  2\n",
            "current sum ==  420\n",
            "i ==  1\n",
            " j ==  0\n",
            "current sum ==  -50\n",
            " j ==  1\n",
            "current sum ==  340\n",
            " j ==  2\n",
            "current sum ==  440\n",
            "i ==  2\n",
            " j ==  0\n",
            "current sum ==  390\n",
            " j ==  1\n",
            "current sum ==  490\n",
            " j ==  2\n",
            "current sum ==  540\n",
            "i ==  3\n",
            " j ==  0\n",
            "current sum ==  100\n",
            " j ==  1\n",
            "current sum ==  150\n",
            " j ==  2\n",
            "current sum ==  350\n"
          ],
          "name": "stdout"
        },
        {
          "output_type": "execute_result",
          "data": {
            "text/plain": [
              "540"
            ]
          },
          "metadata": {
            "tags": []
          },
          "execution_count": 10
        }
      ]
    },
    {
      "cell_type": "markdown",
      "metadata": {
        "id": "g9mWj7GjJ6mm"
      },
      "source": [
        "Sliding Technique"
      ]
    },
    {
      "cell_type": "code",
      "metadata": {
        "colab": {
          "base_uri": "https://localhost:8080/"
        },
        "id": "Y-YHa-YE3CHk",
        "outputId": "49a78b57-1ad4-489f-efce-c5ac508a1caa"
      },
      "source": [
        "def maxSumArrayFaster(my_array, k):\n",
        "  array_len = len(my_array)\n",
        "  if len(my_array) < k:\n",
        "    return \"Invalid\"\n",
        "  elif len(my_array) == k:\n",
        "    return sum(my_array)\n",
        "  else:\n",
        "    window_sum = sum([my_array[i] for i in range(k)])\n",
        "    max_sum = window_sum\n",
        "    print(\"window sum == \", window_sum)\n",
        "    for i in range(array_len - k):\n",
        "      window_sum = window_sum - my_array[i] + my_array[i+k]\n",
        "      max_sum = max(window_sum, max_sum)\n",
        "    return max_sum\n",
        "\n",
        "my_array = [80, -50, 390, 100,50,200]\n",
        "maxSumArrayFaster(my_array, 3)\n"
      ],
      "execution_count": 12,
      "outputs": [
        {
          "output_type": "stream",
          "text": [
            "window sum ==  420\n"
          ],
          "name": "stdout"
        },
        {
          "output_type": "execute_result",
          "data": {
            "text/plain": [
              "540"
            ]
          },
          "metadata": {
            "tags": []
          },
          "execution_count": 12
        }
      ]
    },
    {
      "cell_type": "code",
      "metadata": {
        "id": "sHOS63QCJIh6"
      },
      "source": [
        ""
      ],
      "execution_count": null,
      "outputs": []
    },
    {
      "cell_type": "markdown",
      "metadata": {
        "id": "b60W_kdkKQrH"
      },
      "source": [
        "SECTION 5 ::: INTERVIEW QUESTIONS"
      ]
    },
    {
      "cell_type": "code",
      "metadata": {
        "id": "IfUlmFW3KWCe"
      },
      "source": [
        ""
      ],
      "execution_count": null,
      "outputs": []
    }
  ]
}