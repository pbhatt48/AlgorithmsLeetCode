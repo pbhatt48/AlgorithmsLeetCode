{
  "nbformat": 4,
  "nbformat_minor": 0,
  "metadata": {
    "colab": {
      "name": "BinarySearchAlgo.ipynb",
      "provenance": [],
      "collapsed_sections": [],
      "authorship_tag": "ABX9TyOq71w5awl6iwFEx/Rh13H5",
      "include_colab_link": true
    },
    "kernelspec": {
      "name": "python3",
      "display_name": "Python 3"
    }
  },
  "cells": [
    {
      "cell_type": "markdown",
      "metadata": {
        "id": "view-in-github",
        "colab_type": "text"
      },
      "source": [
        "<a href=\"https://colab.research.google.com/github/pbhatt48/AlgorithmsLeetCode/blob/main/BinarySearchAlgo.ipynb\" target=\"_parent\"><img src=\"https://colab.research.google.com/assets/colab-badge.svg\" alt=\"Open In Colab\"/></a>"
      ]
    },
    {
      "cell_type": "markdown",
      "metadata": {
        "id": "Eh-_9GA8Jqtu"
      },
      "source": [
        "SECTION 3 :: BINARY SEARCH"
      ]
    },
    {
      "cell_type": "code",
      "metadata": {
        "colab": {
          "base_uri": "https://localhost:8080/"
        },
        "id": "zsnK31QJJ98T",
        "outputId": "6c64fc80-80fb-4143-d261-960c54a143d3"
      },
      "source": [
        "##Binary Search\n",
        "\n",
        "def binarySearch(arr, target):\n",
        "  start = 0\n",
        "  end = len(arr) - 1\n",
        "  \n",
        "\n",
        "  while start <= end:\n",
        "    mp = (start+end)//2\n",
        "    if arr[mp] == target:\n",
        "      return mp\n",
        "    elif arr[mp] < target:\n",
        "      start = mp + 1\n",
        "    elif arr[mp] > target:\n",
        "      end = mp - 1\n",
        "  result = -1\n",
        "  return result \n",
        "\n",
        "arr = [ i for i in range(20)]\n",
        "arr = [1, 5 ,7 ,10, 13, 15, 16 ,20]\n",
        "target = 13\n",
        "\n",
        "\n",
        "result = binarySearch(arr, target)\n",
        "if result == -1:\n",
        "  print(\"Result not found\", result)\n",
        "else:\n",
        "  print(\"Target found :: \", result)"
      ],
      "execution_count": 14,
      "outputs": [
        {
          "output_type": "stream",
          "text": [
            "Target found ::  4\n"
          ],
          "name": "stdout"
        }
      ]
    },
    {
      "cell_type": "code",
      "metadata": {
        "colab": {
          "base_uri": "https://localhost:8080/"
        },
        "id": "JppDl_AUNhSo",
        "outputId": "be17c2d4-1293-4b0a-d814-88bd2a6c1021"
      },
      "source": [
        "binarySearch(arr, 21)"
      ],
      "execution_count": 15,
      "outputs": [
        {
          "output_type": "execute_result",
          "data": {
            "text/plain": [
              "-1"
            ]
          },
          "metadata": {
            "tags": []
          },
          "execution_count": 15
        }
      ]
    },
    {
      "cell_type": "markdown",
      "metadata": {
        "id": "7KFrqhx2JyA8"
      },
      "source": [
        "SECTION 4 ::: WINDOW SLIDE"
      ]
    },
    {
      "cell_type": "markdown",
      "metadata": {
        "id": "iPOdhgZHJ3H8"
      },
      "source": [
        "Q : Write a solution to get you the greatest sum for a window of kth element e.g. [10, -50, 70, 60, 30, 40] @k = 2 ; Ans = 70+60 = 130\n",
        "Brute Force"
      ]
    },
    {
      "cell_type": "code",
      "metadata": {
        "colab": {
          "base_uri": "https://localhost:8080/"
        },
        "id": "KWCy1g7IPLIs",
        "outputId": "54a93024-f3b0-4ccb-97b7-845df29d0f71"
      },
      "source": [
        "## Max sum array\n",
        "def maxSumArray(my_array, k):\n",
        "  max_sum = float('-inf') \n",
        "  n = len(my_array)\n",
        "  for i in range(n-k+1):\n",
        "    print(\"i == \" , i)\n",
        "    current_sum = 0\n",
        "    for j in range(k):\n",
        "      print(\" j == \", j)\n",
        "      current_sum += my_array[i+j]\n",
        "      print(\"current sum == \", current_sum)\n",
        "    max_sum = max(current_sum, max_sum)\n",
        "  return max_sum\n",
        "\n",
        "my_array = [80, -50, 390, 100,50,200]\n",
        "maxSumArray(my_array, 3)"
      ],
      "execution_count": 13,
      "outputs": [
        {
          "output_type": "stream",
          "text": [
            "i ==  0\n",
            " j ==  0\n",
            "current sum ==  80\n",
            " j ==  1\n",
            "current sum ==  30\n",
            " j ==  2\n",
            "current sum ==  420\n",
            "i ==  1\n",
            " j ==  0\n",
            "current sum ==  -50\n",
            " j ==  1\n",
            "current sum ==  340\n",
            " j ==  2\n",
            "current sum ==  440\n",
            "i ==  2\n",
            " j ==  0\n",
            "current sum ==  390\n",
            " j ==  1\n",
            "current sum ==  490\n",
            " j ==  2\n",
            "current sum ==  540\n",
            "i ==  3\n",
            " j ==  0\n",
            "current sum ==  100\n",
            " j ==  1\n",
            "current sum ==  150\n",
            " j ==  2\n",
            "current sum ==  350\n"
          ],
          "name": "stdout"
        },
        {
          "output_type": "execute_result",
          "data": {
            "text/plain": [
              "540"
            ]
          },
          "metadata": {
            "tags": []
          },
          "execution_count": 13
        }
      ]
    },
    {
      "cell_type": "code",
      "metadata": {
        "id": "QrlC6a8QLE0U"
      },
      "source": [
        ""
      ],
      "execution_count": 20,
      "outputs": []
    },
    {
      "cell_type": "markdown",
      "metadata": {
        "id": "g9mWj7GjJ6mm"
      },
      "source": [
        "Sliding Technique"
      ]
    },
    {
      "cell_type": "code",
      "metadata": {
        "colab": {
          "base_uri": "https://localhost:8080/"
        },
        "id": "Y-YHa-YE3CHk",
        "outputId": "a2274619-3495-4b6a-fc42-7cf26a65f343"
      },
      "source": [
        "def maxSumArrayFaster(my_array, k):\n",
        "  array_len = len(my_array)\n",
        "  if len(my_array) < k:\n",
        "    return \"Invalid\"\n",
        "  elif len(my_array) == k:\n",
        "    return sum(my_array)\n",
        "  else:\n",
        "    window_sum = sum([my_array[i] for i in range(k)])\n",
        "    max_sum = window_sum\n",
        "    #print(\"window sum == \", window_sum)\n",
        "    for i in range(array_len - k):\n",
        "      window_sum = window_sum - my_array[i] + my_array[i+k]\n",
        "      max_sum = max(window_sum, max_sum)\n",
        "    return max_sum\n",
        "\n",
        "my_array = [80, -50, 390, 100,50,200]\n",
        "maxSumArrayFaster(my_array, 3)\n"
      ],
      "execution_count": 19,
      "outputs": [
        {
          "output_type": "execute_result",
          "data": {
            "text/plain": [
              "540"
            ]
          },
          "metadata": {
            "tags": []
          },
          "execution_count": 19
        }
      ]
    },
    {
      "cell_type": "code",
      "metadata": {
        "colab": {
          "base_uri": "https://localhost:8080/"
        },
        "id": "sHOS63QCJIh6",
        "outputId": "f4928b1f-5185-46ae-ad72-c0830ae3ac74"
      },
      "source": [
        "my_array = [10, -50, 70, 60, 30, 40]\n",
        "maxSumArrayFaster(my_array, 2)"
      ],
      "execution_count": 20,
      "outputs": [
        {
          "output_type": "execute_result",
          "data": {
            "text/plain": [
              "130"
            ]
          },
          "metadata": {
            "tags": []
          },
          "execution_count": 20
        }
      ]
    },
    {
      "cell_type": "markdown",
      "metadata": {
        "id": "b60W_kdkKQrH"
      },
      "source": [
        "SECTION 5 ::: INTERVIEW QUESTIONS"
      ]
    },
    {
      "cell_type": "markdown",
      "metadata": {
        "id": "dwHaEDwtLuza"
      },
      "source": [
        "1: Move Zeros to the last for eg [10, 0, 50, 0, 45, 30] Ans = [10, 50, 45, 30, 0, 0]"
      ]
    },
    {
      "cell_type": "code",
      "metadata": {
        "colab": {
          "base_uri": "https://localhost:8080/"
        },
        "id": "IfUlmFW3KWCe",
        "outputId": "06b59ee6-3b8b-4110-973e-14e7f53ebd16"
      },
      "source": [
        "class Solution:\n",
        "  def moveZero(self,lst):\n",
        "    counter = 0\n",
        "    for i in range(len(lst)): \n",
        "      if lst[i] != 0:\n",
        "        lst[counter] = lst[i]\n",
        "        #print(lst)\n",
        "        counter += 1\n",
        "\n",
        "    for i in range(counter, len(lst)):\n",
        "      lst[i] = 0\n",
        "    return lst\n",
        "\n",
        "\n",
        "s = Solution()\n",
        "lst = [10, 50, 45, 30, 0, 0]\n",
        "assert s.moveZero(lst) == [10, 50, 45, 30, 0, 0], \"Should be [10, 50, 45, 30, 0, 0]\"\n",
        "s.moveZero(lst)\n",
        "\n",
        "\n"
      ],
      "execution_count": 31,
      "outputs": [
        {
          "output_type": "execute_result",
          "data": {
            "text/plain": [
              "[10, 50, 45, 30, 0, 0]"
            ]
          },
          "metadata": {
            "tags": []
          },
          "execution_count": 31
        }
      ]
    },
    {
      "cell_type": "code",
      "metadata": {
        "id": "99T1-iW6994A"
      },
      "source": [
        ""
      ],
      "execution_count": null,
      "outputs": []
    },
    {
      "cell_type": "markdown",
      "metadata": {
        "id": "9oEuz8HRQmZj"
      },
      "source": [
        "2 - You are given an array people where people[i] is the weight of the ith person, and an infinite number of boats where each boat can carry a maximum weight of limit. Each boat carries at most two people at the same time, provided the sum of the weight of those people is at most limit.\n",
        "\n",
        "Return the minimum number of boats to carry every given person."
      ]
    },
    {
      "cell_type": "markdown",
      "metadata": {
        "id": "Bz9AvR3_9-6R"
      },
      "source": [
        "THIS SOLUTION IS FOR WHERE THE BOAT LIMIT IS NOT 2 PEOPLE BUT WEIGHT LIMIT\n"
      ]
    },
    {
      "cell_type": "code",
      "metadata": {
        "colab": {
          "base_uri": "https://localhost:8080/"
        },
        "id": "7EsbLUZf-RC9",
        "outputId": "927ad8f3-abe2-4e10-912a-9333f9cebe5c"
      },
      "source": [
        "class MoveBoats:\n",
        "  def move(self, people, limit):\n",
        "    nb = 0\n",
        "    ix = []\n",
        "    rp = len(people)\n",
        "    for i in range(rp):\n",
        "      if i not in ix:\n",
        "        remainder = 0\n",
        "        #print(\"People == \", people[i])\n",
        "        if people[i] == limit:\n",
        "          nb += 1\n",
        "        if people[i] < limit:\n",
        "          remainder = limit - people[i]\n",
        "          #print(\"REMAINDER == \", remainder)\n",
        "          for j in range(i+1, rp):\n",
        "            if people[j] == remainder and j not in ix:\n",
        "              #nb += 1\n",
        "              ix.append(j)\n",
        "              #print(\"IX == \", ix)\n",
        "              break\n",
        "            elif people[j] < remainder and j not in ix:\n",
        "              remainder -= people[j]\n",
        "              ix.append(j)\n",
        "\n",
        "          nb +=1\n",
        "    print(\"Boats ===================== \",  nb)\n",
        "    return nb\n",
        "\n",
        "\n",
        "s = MoveBoats()\n",
        "s.move([3,2,2,1,2], 3)\n",
        "assert s.move([3,2,2,1,2], 3) == 4, \"Should be 4 boats, Test case 1 Failed\"\n",
        "\n",
        "s.move([3,2,2,1,2], 4)\n",
        "assert s.move([3,2,2,1,2], 4) == 3, \"Should be 3 boats, Test case 2 Failed\"\n",
        "\n",
        "s.move([3,2,2,1,2,2,1,1,1], 4)\n",
        "assert s.move([3,2,2,1,2,2,1,1,1], 4) == 4, \"Should be 4 boats, Test case 3 Failed\"\n",
        "\n",
        "s.move([3,2,2,1,2,2,1,1,1,1,1,1,2,1], 4)\n",
        "assert s.move([3,2,2,1,2,2,1,1,1,1,1,1,2,1], 4) == 6, \"Should be 6 boats, Test case 4 Failed\"\n",
        "\n",
        "\n",
        "      \n"
      ],
      "execution_count": 53,
      "outputs": [
        {
          "output_type": "stream",
          "text": [
            "Boats =====================  4\n",
            "Boats =====================  4\n",
            "Boats =====================  3\n",
            "Boats =====================  3\n",
            "Boats =====================  4\n",
            "Boats =====================  4\n",
            "Boats =====================  6\n",
            "Boats =====================  6\n"
          ],
          "name": "stdout"
        }
      ]
    },
    {
      "cell_type": "markdown",
      "metadata": {
        "id": "jCIc2o38QYKs"
      },
      "source": [
        "THIS SOLUTION IS FOR WHERE THE BOAT LIMIT IS 2 PEOPLE BUT WEIGHT LIMIT --> ACTUAL LEET CODE QUESTION"
      ]
    },
    {
      "cell_type": "code",
      "metadata": {
        "colab": {
          "base_uri": "https://localhost:8080/"
        },
        "id": "L10nXZQLBCcx",
        "outputId": "63e13510-91f8-4df4-a24d-41fff565a78e"
      },
      "source": [
        "\n",
        "class MoveBoatsII:\n",
        "  def move(self, people, limit):\n",
        "    nb = 0\n",
        "    people = sorted(people)\n",
        "    #print(\"SORTED == \", people)\n",
        "    rp = len(people) - 1\n",
        "    lp = 0\n",
        "\n",
        "    while lp <= rp:\n",
        "      if lp == rp:\n",
        "        nb +=1\n",
        "        #print(\"EQUAL BOAT == \", nb)\n",
        "        break\n",
        "      \n",
        "      if (people[lp] + people[rp]) <= limit:\n",
        "        #print(\"POSITION == \", lp , rp)\n",
        "        #print(\"people[lp] + people[rp] == \", people[lp] , people[rp])\n",
        "        lp += 1\n",
        "      \n",
        "      rp -= 1\n",
        "      nb += 1\n",
        "      \n",
        "\n",
        "\n",
        "    print(\"Boats ===================== \",  nb)\n",
        "    return nb\n",
        "  \n",
        "s = MoveBoatsII()\n",
        "# s.move([3,2,2,1,2], 3)\n",
        "# assert s.move([3,2,2,1,2], 3) == 4, \"Should be 4 boats, Test case 1 Failed\"\n",
        "\n",
        "# s.move([3,2,2,1,2], 4)\n",
        "# assert s.move([3,2,2,1,2], 4) == 3, \"Should be 3 boats, Test case 2 Failed\"\n",
        "\n",
        "s.move([3,2,2,1,2,2,1,1,1], 4)\n",
        "assert s.move([3,2,2,1,2,2,1,1,1], 4) == 5, \"Should be 4 boats, Test case 3 Failed\"\n",
        "\n",
        "s.move([3,2,2,1,2,2,1,1,1,1,1,1,2,1], 4)\n",
        "assert s.move([3,2,2,1,2,2,1,1,1,1,1,1,2,1], 4) == 7, \"Should be 6 boats, Test case 4 Failed\""
      ],
      "execution_count": 66,
      "outputs": [
        {
          "output_type": "stream",
          "text": [
            "Boats =====================  5\n",
            "Boats =====================  5\n",
            "Boats =====================  7\n",
            "Boats =====================  7\n"
          ],
          "name": "stdout"
        }
      ]
    },
    {
      "cell_type": "markdown",
      "metadata": {
        "id": "IiXA8LD_QWkN"
      },
      "source": [
        ""
      ]
    },
    {
      "cell_type": "code",
      "metadata": {
        "id": "6o3_8LRByxwf"
      },
      "source": [
        ""
      ],
      "execution_count": null,
      "outputs": []
    },
    {
      "cell_type": "markdown",
      "metadata": {
        "id": "Y_oAJZCDF7o5"
      },
      "source": [
        "Valid Mountain Array\n"
      ]
    },
    {
      "cell_type": "code",
      "metadata": {
        "colab": {
          "base_uri": "https://localhost:8080/"
        },
        "id": "z5DKAK5jF9zX",
        "outputId": "967e6a02-d1d6-4016-c234-5734ad935a63"
      },
      "source": [
        "class MountainArray:\n",
        "  def mountain_array(self, lst):\n",
        "    i = 1\n",
        "    len_array = len(lst)\n",
        "    #print(i)\n",
        "    while (i < len_array and lst[i] > lst[i -1] ):\n",
        "      i += 1\n",
        "    if i == 1 or i == len(lst):\n",
        "      return False\n",
        "    while (i < len_array and lst[i] < lst[i-1]):\n",
        "      i += 1\n",
        "    return i == len(lst)\n",
        "\n",
        "\n",
        "    \n",
        "\n",
        "\n",
        "\n",
        "s = MountainArray()\n",
        "print(s.mountain_array([1,2,3,4,2,1]))\n",
        "print(s.mountain_array([2,0,2]))\n",
        "print(s.mountain_array([3,5,5]))\n",
        "print(s.mountain_array([0,1,2,3,4,5,6,7,8,9]))\n",
        "print(s.mountain_array([3,7,6,4,3,0,1,0]))"
      ],
      "execution_count": 26,
      "outputs": [
        {
          "output_type": "stream",
          "text": [
            "True\n",
            "False\n",
            "False\n",
            "False\n",
            "False\n"
          ],
          "name": "stdout"
        }
      ]
    },
    {
      "cell_type": "code",
      "metadata": {
        "id": "0DXoJYOhJb8g"
      },
      "source": [
        ""
      ],
      "execution_count": 24,
      "outputs": []
    },
    {
      "cell_type": "markdown",
      "metadata": {
        "id": "Xu9rt139pcW6"
      },
      "source": [
        "Container with Most water\n",
        "https://leetcode.com/problems/container-with-most-water/"
      ]
    },
    {
      "cell_type": "code",
      "metadata": {
        "colab": {
          "base_uri": "https://localhost:8080/"
        },
        "id": "9Hj_i5ctOgwP",
        "outputId": "23e11e8e-f821-4078-f583-3f8da6c545ee"
      },
      "source": [
        "## ON^2 time complexity \n",
        "class ContainerMWater:\n",
        "  def fillTank(self,height):\n",
        "    lg = len(height)\n",
        "    vol = 0\n",
        "    cutoff = 0\n",
        "    for i in range(lg):\n",
        "      counter = 1\n",
        "      for j in range(i+1 , lg):\n",
        "        temp_vol = min(height[i],height[j]) * counter\n",
        "        counter += 1\n",
        "        #print(temp_vol)\n",
        "        if temp_vol > vol : vol = temp_vol\n",
        "    return vol\n",
        "\n",
        "s = ContainerMWater()\n",
        "print(s.fillTank([1,8,6,2,5,4,8,3,7]))\n",
        "print(s.fillTank([1,1]))\n",
        "print(s.fillTank([4,3,2,1,4]))\n",
        "print(s.fillTank([1,2,1]))\n"
      ],
      "execution_count": 33,
      "outputs": [
        {
          "output_type": "stream",
          "text": [
            "49\n",
            "1\n",
            "16\n",
            "2\n"
          ],
          "name": "stdout"
        }
      ]
    },
    {
      "cell_type": "code",
      "metadata": {
        "colab": {
          "base_uri": "https://localhost:8080/"
        },
        "id": "s2Rx8WScsEGb",
        "outputId": "0eff5c28-2cba-4cd5-91cf-5d9dff25a139"
      },
      "source": [
        "## ON time complexity \n",
        "class ContainerMWater:\n",
        "  def fillTank(self,height):\n",
        "    lg = len(height)\n",
        "    lp = 0\n",
        "    rp = lg -1\n",
        "    maxvol = 0\n",
        "\n",
        "    while lp < rp:\n",
        "      maxvol = max(maxvol, min(height[lp],height[rp]) * (rp - lp))\n",
        "      #print(maxvol)\n",
        "      if height[lp] < height[rp]:\n",
        "        lp += 1\n",
        "      else: rp -= 1\n",
        "    return maxvol\n",
        "\n",
        "s = ContainerMWater()\n",
        "print(s.fillTank([1,8,6,2,5,4,8,3,7]))\n",
        "print(s.fillTank([1,1]))\n",
        "print(s.fillTank([4,3,2,1,4]))\n",
        "print(s.fillTank([1,2,1]))"
      ],
      "execution_count": 38,
      "outputs": [
        {
          "output_type": "stream",
          "text": [
            "49\n",
            "1\n",
            "16\n",
            "2\n"
          ],
          "name": "stdout"
        }
      ]
    },
    {
      "cell_type": "code",
      "metadata": {
        "id": "1YA8AtZ3wy1B"
      },
      "source": [
        ""
      ],
      "execution_count": null,
      "outputs": []
    },
    {
      "cell_type": "markdown",
      "metadata": {
        "id": "mNcyGE5Ayi93"
      },
      "source": [
        "Longest Substring Without Repeating Characters\n",
        "https://leetcode.com/problems/longest-substring-without-repeating-characters/"
      ]
    },
    {
      "cell_type": "code",
      "metadata": {
        "colab": {
          "base_uri": "https://localhost:8080/"
        },
        "id": "Kcme4dnnymVp",
        "outputId": "c5740ee4-b23c-4040-ac91-a17c220417ce"
      },
      "source": [
        "## ON^2 time complexity \n",
        "class LongestSubstring:\n",
        "  def findLongSub(self, s):\n",
        "    lg = len(s) \n",
        "    mys = ''\n",
        "    if s == '':\n",
        "      return 0\n",
        "    if s.strip() == '' or len(s) == 1:\n",
        "      return 1\n",
        "    for i in range(lg):\n",
        "      tmps = ''\n",
        "      #print('here')\n",
        "      #print('i == ', i)\n",
        "      check = []\n",
        "      for j in range(i, lg):\n",
        "        #print('j == ', j)\n",
        "        if s[j] not in check:\n",
        "          check.append(s[j])\n",
        "          tmps += s[j]\n",
        "          #print(\"tmps == \", tmps)\n",
        "          if len(tmps) == lg: return len(tmps)\n",
        "          if len(tmps) > len(mys): mys = tmps\n",
        "        else:\n",
        "          if len(tmps) > len(mys): mys = tmps\n",
        "          break\n",
        "    return len(mys)\n",
        "\n",
        "\n",
        "\n",
        "s = LongestSubstring()\n",
        "print(s.findLongSub(\"abcabcbb\")) #abc 3\n",
        "print(s.findLongSub(\"bbbbb\")) #b 1\n",
        "print(s.findLongSub(\"pwwkew\")) #kew 3 \n",
        "print(s.findLongSub(\"\")) # 0\n",
        "print(s.findLongSub(\"   \")) #1\n",
        "print(s.findLongSub(\"c\")) #1\n",
        "print(s.findLongSub(\"au\"))#2\n",
        "print(s.findLongSub(\"aab\")) #2\n"
      ],
      "execution_count": 27,
      "outputs": [
        {
          "output_type": "stream",
          "text": [
            "3\n",
            "1\n",
            "3\n",
            "0\n",
            "1\n",
            "1\n",
            "2\n",
            "2\n"
          ],
          "name": "stdout"
        }
      ]
    },
    {
      "cell_type": "code",
      "metadata": {
        "id": "fjpKBZFE3Syx"
      },
      "source": [
        "##ON complexity?"
      ],
      "execution_count": 27,
      "outputs": []
    },
    {
      "cell_type": "code",
      "metadata": {
        "id": "pW4F1ORb9BYD"
      },
      "source": [
        ""
      ],
      "execution_count": null,
      "outputs": []
    },
    {
      "cell_type": "code",
      "metadata": {
        "id": "TFHQsfcZ9Bk7"
      },
      "source": [
        ""
      ],
      "execution_count": null,
      "outputs": []
    },
    {
      "cell_type": "code",
      "metadata": {
        "id": "dL2O8DtU4b1v"
      },
      "source": [
        ""
      ],
      "execution_count": null,
      "outputs": []
    },
    {
      "cell_type": "markdown",
      "metadata": {
        "id": "a-L23WRv9Cre"
      },
      "source": [
        "Find First and Last Position of Element in Sorted Array\n",
        "https://leetcode.com/problems/find-first-and-last-position-of-element-in-sorted-array/"
      ]
    },
    {
      "cell_type": "code",
      "metadata": {
        "colab": {
          "base_uri": "https://localhost:8080/"
        },
        "id": "lrmkgVh49Go5",
        "outputId": "5a320f96-d22f-4de9-b3ad-4423fd73cab4"
      },
      "source": [
        "# Input: nums = [5,7,7,8,8,10], target = 8\n",
        "# Output: [3,4]\n",
        "\n",
        "class FLP:\n",
        "  def firstLastPosition(self, nums, target):\n",
        "    lp = -1\n",
        "    rp = -1\n",
        "    lg = len(nums)\n",
        "    if len(nums) == 1 and nums[0] == target : return [0,0]\n",
        "    for i in range(lg):\n",
        "      if nums[i] == target:\n",
        "        if lp == -1 : lp = i\n",
        "        rp = i\n",
        "    if lp == -1 or rp == -1: lp = rp\n",
        "    return [lp, rp]\n",
        "\n",
        "s = FLP()\n",
        "print(s.firstLastPosition([5,7,7,8,8,10], 8))\n",
        "print(s.firstLastPosition([5,7,7,8,8,10], 6))\n",
        "print(s.firstLastPosition([], 0))\n",
        "print(s.firstLastPosition([1], 0))\n",
        "print(s.firstLastPosition([1], 1))\n",
        "print(s.firstLastPosition([1,3], 1))\n",
        "print(s.firstLastPosition([3,3,3], 3))\n",
        "\n"
      ],
      "execution_count": 36,
      "outputs": [
        {
          "output_type": "stream",
          "text": [
            "[3, 4]\n",
            "[-1, -1]\n",
            "[-1, -1]\n",
            "[-1, -1]\n",
            "[0, 0]\n",
            "[0, 0]\n",
            "[0, 2]\n"
          ],
          "name": "stdout"
        }
      ]
    },
    {
      "cell_type": "code",
      "metadata": {
        "id": "7YWgr-Sz-d40"
      },
      "source": [
        ""
      ],
      "execution_count": null,
      "outputs": []
    },
    {
      "cell_type": "markdown",
      "metadata": {
        "id": "yIgBTJDTw8NG"
      },
      "source": [
        "First Bad Version https://leetcode.com/problems/first-bad-version/"
      ]
    },
    {
      "cell_type": "code",
      "metadata": {
        "colab": {
          "base_uri": "https://localhost:8080/"
        },
        "id": "HSajQuHcw-xJ",
        "outputId": "5b237cd0-c2f7-4745-a60b-c9f67ac32913"
      },
      "source": [
        "import math\n",
        "def isBadVersion(bad):\n",
        "  bad_ver = 3\n",
        "  return bad >= bad_ver\n",
        "\n",
        "class FBV:\n",
        "  def firstBadV(self, n):\n",
        "    lp = 1\n",
        "    rp = n\n",
        "    mp = 0\n",
        "\n",
        "    while lp < rp:\n",
        "      mp = int((lp+rp)/2)\n",
        "      nmp = lp + (rp - lp)//2\n",
        "      # print(\"MP == \", mp)\n",
        "      #print(\"NMP == \", nmp)\n",
        "      if isBadVersion(mp) == True:\n",
        "        rp = mp \n",
        "      else:\n",
        "        lp = mp + 1\n",
        "      #print(\" LP == \", lp , \" RP == \", rp)\n",
        "    \n",
        "    return max(lp,rp)\n",
        "\n",
        "s = FBV()\n",
        "s.firstBadV(10)\n",
        "      \n",
        "\n"
      ],
      "execution_count": 14,
      "outputs": [
        {
          "output_type": "execute_result",
          "data": {
            "text/plain": [
              "3"
            ]
          },
          "metadata": {
            "tags": []
          },
          "execution_count": 14
        }
      ]
    },
    {
      "cell_type": "code",
      "metadata": {
        "id": "KBi9F19b2A-j"
      },
      "source": [
        ""
      ],
      "execution_count": 14,
      "outputs": []
    },
    {
      "cell_type": "code",
      "metadata": {
        "id": "v6k6YtC44Zch"
      },
      "source": [
        ""
      ],
      "execution_count": 14,
      "outputs": []
    },
    {
      "cell_type": "code",
      "metadata": {
        "id": "BFj1Qr9z5jrK"
      },
      "source": [
        ""
      ],
      "execution_count": null,
      "outputs": []
    }
  ]
}