{
  "nbformat": 4,
  "nbformat_minor": 0,
  "metadata": {
    "colab": {
      "name": "BinarySearchAlgo.ipynb",
      "provenance": [],
      "authorship_tag": "ABX9TyMh8WCJR4GxEnT/cOLFfFgk",
      "include_colab_link": true
    },
    "kernelspec": {
      "name": "python3",
      "display_name": "Python 3"
    }
  },
  "cells": [
    {
      "cell_type": "markdown",
      "metadata": {
        "id": "view-in-github",
        "colab_type": "text"
      },
      "source": [
        "<a href=\"https://colab.research.google.com/github/pbhatt48/AlgorithmsLeetCode/blob/main/BinarySearchAlgo.ipynb\" target=\"_parent\"><img src=\"https://colab.research.google.com/assets/colab-badge.svg\" alt=\"Open In Colab\"/></a>"
      ]
    },
    {
      "cell_type": "code",
      "metadata": {
        "colab": {
          "base_uri": "https://localhost:8080/"
        },
        "id": "zsnK31QJJ98T",
        "outputId": "6c64fc80-80fb-4143-d261-960c54a143d3"
      },
      "source": [
        "##Binary Search\n",
        "\n",
        "def binarySearch(arr, target):\n",
        "  start = 0\n",
        "  end = len(arr) - 1\n",
        "  \n",
        "\n",
        "  while start <= end:\n",
        "    mp = (start+end)//2\n",
        "    if arr[mp] == target:\n",
        "      return mp\n",
        "    elif arr[mp] < target:\n",
        "      start = mp + 1\n",
        "    elif arr[mp] > target:\n",
        "      end = mp - 1\n",
        "  result = -1\n",
        "  return result \n",
        "\n",
        "arr = [ i for i in range(20)]\n",
        "arr = [1, 5 ,7 ,10, 13, 15, 16 ,20]\n",
        "target = 13\n",
        "\n",
        "\n",
        "result = binarySearch(arr, target)\n",
        "if result == -1:\n",
        "  print(\"Result not found\", result)\n",
        "else:\n",
        "  print(\"Target found :: \", result)"
      ],
      "execution_count": 14,
      "outputs": [
        {
          "output_type": "stream",
          "text": [
            "Target found ::  4\n"
          ],
          "name": "stdout"
        }
      ]
    },
    {
      "cell_type": "code",
      "metadata": {
        "id": "JppDl_AUNhSo"
      },
      "source": [
        ""
      ],
      "execution_count": null,
      "outputs": []
    }
  ]
}