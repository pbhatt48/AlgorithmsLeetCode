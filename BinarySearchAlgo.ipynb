{
  "nbformat": 4,
  "nbformat_minor": 0,
  "metadata": {
    "colab": {
      "name": "BinarySearchAlgo.ipynb",
      "provenance": [],
      "collapsed_sections": [],
      "authorship_tag": "ABX9TyMwDUelpSUujDSsI/ro5CWG",
      "include_colab_link": true
    },
    "kernelspec": {
      "name": "python3",
      "display_name": "Python 3"
    }
  },
  "cells": [
    {
      "cell_type": "markdown",
      "metadata": {
        "id": "view-in-github",
        "colab_type": "text"
      },
      "source": [
        "<a href=\"https://colab.research.google.com/github/pbhatt48/AlgorithmsLeetCode/blob/main/BinarySearchAlgo.ipynb\" target=\"_parent\"><img src=\"https://colab.research.google.com/assets/colab-badge.svg\" alt=\"Open In Colab\"/></a>"
      ]
    },
    {
      "cell_type": "markdown",
      "metadata": {
        "id": "Eh-_9GA8Jqtu"
      },
      "source": [
        "SECTION 3 :: BINARY SEARCH"
      ]
    },
    {
      "cell_type": "code",
      "metadata": {
        "colab": {
          "base_uri": "https://localhost:8080/"
        },
        "id": "zsnK31QJJ98T",
        "outputId": "6c64fc80-80fb-4143-d261-960c54a143d3"
      },
      "source": [
        "##Binary Search\n",
        "\n",
        "def binarySearch(arr, target):\n",
        "  start = 0\n",
        "  end = len(arr) - 1\n",
        "  \n",
        "\n",
        "  while start <= end:\n",
        "    mp = (start+end)//2\n",
        "    if arr[mp] == target:\n",
        "      return mp\n",
        "    elif arr[mp] < target:\n",
        "      start = mp + 1\n",
        "    elif arr[mp] > target:\n",
        "      end = mp - 1\n",
        "  result = -1\n",
        "  return result \n",
        "\n",
        "arr = [ i for i in range(20)]\n",
        "arr = [1, 5 ,7 ,10, 13, 15, 16 ,20]\n",
        "target = 13\n",
        "\n",
        "\n",
        "result = binarySearch(arr, target)\n",
        "if result == -1:\n",
        "  print(\"Result not found\", result)\n",
        "else:\n",
        "  print(\"Target found :: \", result)"
      ],
      "execution_count": 14,
      "outputs": [
        {
          "output_type": "stream",
          "text": [
            "Target found ::  4\n"
          ],
          "name": "stdout"
        }
      ]
    },
    {
      "cell_type": "code",
      "metadata": {
        "colab": {
          "base_uri": "https://localhost:8080/"
        },
        "id": "JppDl_AUNhSo",
        "outputId": "be17c2d4-1293-4b0a-d814-88bd2a6c1021"
      },
      "source": [
        "binarySearch(arr, 21)"
      ],
      "execution_count": 15,
      "outputs": [
        {
          "output_type": "execute_result",
          "data": {
            "text/plain": [
              "-1"
            ]
          },
          "metadata": {
            "tags": []
          },
          "execution_count": 15
        }
      ]
    },
    {
      "cell_type": "markdown",
      "metadata": {
        "id": "7KFrqhx2JyA8"
      },
      "source": [
        "SECTION 4 ::: WINDOW SLIDE"
      ]
    },
    {
      "cell_type": "markdown",
      "metadata": {
        "id": "iPOdhgZHJ3H8"
      },
      "source": [
        "Q : Write a solution to get you the greatest sum for a window of kth element e.g. [10, -50, 70, 60, 30, 40] @k = 2 ; Ans = 70+60 = 130\n",
        "Brute Force"
      ]
    },
    {
      "cell_type": "code",
      "metadata": {
        "colab": {
          "base_uri": "https://localhost:8080/"
        },
        "id": "KWCy1g7IPLIs",
        "outputId": "54a93024-f3b0-4ccb-97b7-845df29d0f71"
      },
      "source": [
        "## Max sum array\n",
        "def maxSumArray(my_array, k):\n",
        "  max_sum = float('-inf') \n",
        "  n = len(my_array)\n",
        "  for i in range(n-k+1):\n",
        "    print(\"i == \" , i)\n",
        "    current_sum = 0\n",
        "    for j in range(k):\n",
        "      print(\" j == \", j)\n",
        "      current_sum += my_array[i+j]\n",
        "      print(\"current sum == \", current_sum)\n",
        "    max_sum = max(current_sum, max_sum)\n",
        "  return max_sum\n",
        "\n",
        "my_array = [80, -50, 390, 100,50,200]\n",
        "maxSumArray(my_array, 3)"
      ],
      "execution_count": 13,
      "outputs": [
        {
          "output_type": "stream",
          "text": [
            "i ==  0\n",
            " j ==  0\n",
            "current sum ==  80\n",
            " j ==  1\n",
            "current sum ==  30\n",
            " j ==  2\n",
            "current sum ==  420\n",
            "i ==  1\n",
            " j ==  0\n",
            "current sum ==  -50\n",
            " j ==  1\n",
            "current sum ==  340\n",
            " j ==  2\n",
            "current sum ==  440\n",
            "i ==  2\n",
            " j ==  0\n",
            "current sum ==  390\n",
            " j ==  1\n",
            "current sum ==  490\n",
            " j ==  2\n",
            "current sum ==  540\n",
            "i ==  3\n",
            " j ==  0\n",
            "current sum ==  100\n",
            " j ==  1\n",
            "current sum ==  150\n",
            " j ==  2\n",
            "current sum ==  350\n"
          ],
          "name": "stdout"
        },
        {
          "output_type": "execute_result",
          "data": {
            "text/plain": [
              "540"
            ]
          },
          "metadata": {
            "tags": []
          },
          "execution_count": 13
        }
      ]
    },
    {
      "cell_type": "code",
      "metadata": {
        "id": "QrlC6a8QLE0U"
      },
      "source": [
        ""
      ],
      "execution_count": 20,
      "outputs": []
    },
    {
      "cell_type": "markdown",
      "metadata": {
        "id": "g9mWj7GjJ6mm"
      },
      "source": [
        "Sliding Technique"
      ]
    },
    {
      "cell_type": "code",
      "metadata": {
        "colab": {
          "base_uri": "https://localhost:8080/"
        },
        "id": "Y-YHa-YE3CHk",
        "outputId": "a2274619-3495-4b6a-fc42-7cf26a65f343"
      },
      "source": [
        "def maxSumArrayFaster(my_array, k):\n",
        "  array_len = len(my_array)\n",
        "  if len(my_array) < k:\n",
        "    return \"Invalid\"\n",
        "  elif len(my_array) == k:\n",
        "    return sum(my_array)\n",
        "  else:\n",
        "    window_sum = sum([my_array[i] for i in range(k)])\n",
        "    max_sum = window_sum\n",
        "    #print(\"window sum == \", window_sum)\n",
        "    for i in range(array_len - k):\n",
        "      window_sum = window_sum - my_array[i] + my_array[i+k]\n",
        "      max_sum = max(window_sum, max_sum)\n",
        "    return max_sum\n",
        "\n",
        "my_array = [80, -50, 390, 100,50,200]\n",
        "maxSumArrayFaster(my_array, 3)\n"
      ],
      "execution_count": 19,
      "outputs": [
        {
          "output_type": "execute_result",
          "data": {
            "text/plain": [
              "540"
            ]
          },
          "metadata": {
            "tags": []
          },
          "execution_count": 19
        }
      ]
    },
    {
      "cell_type": "code",
      "metadata": {
        "colab": {
          "base_uri": "https://localhost:8080/"
        },
        "id": "sHOS63QCJIh6",
        "outputId": "f4928b1f-5185-46ae-ad72-c0830ae3ac74"
      },
      "source": [
        "my_array = [10, -50, 70, 60, 30, 40]\n",
        "maxSumArrayFaster(my_array, 2)"
      ],
      "execution_count": 20,
      "outputs": [
        {
          "output_type": "execute_result",
          "data": {
            "text/plain": [
              "130"
            ]
          },
          "metadata": {
            "tags": []
          },
          "execution_count": 20
        }
      ]
    },
    {
      "cell_type": "markdown",
      "metadata": {
        "id": "b60W_kdkKQrH"
      },
      "source": [
        "SECTION 5 ::: INTERVIEW QUESTIONS"
      ]
    },
    {
      "cell_type": "markdown",
      "metadata": {
        "id": "dwHaEDwtLuza"
      },
      "source": [
        "1: Move Zeros to the last for eg [10, 0, 50, 0, 45, 30] Ans = [10, 50, 45, 30, 0, 0]"
      ]
    },
    {
      "cell_type": "code",
      "metadata": {
        "colab": {
          "base_uri": "https://localhost:8080/"
        },
        "id": "IfUlmFW3KWCe",
        "outputId": "06b59ee6-3b8b-4110-973e-14e7f53ebd16"
      },
      "source": [
        "class Solution:\n",
        "  def moveZero(self,lst):\n",
        "    counter = 0\n",
        "    for i in range(len(lst)): \n",
        "      if lst[i] != 0:\n",
        "        lst[counter] = lst[i]\n",
        "        #print(lst)\n",
        "        counter += 1\n",
        "\n",
        "    for i in range(counter, len(lst)):\n",
        "      lst[i] = 0\n",
        "    return lst\n",
        "\n",
        "\n",
        "s = Solution()\n",
        "lst = [10, 50, 45, 30, 0, 0]\n",
        "assert s.moveZero(lst) == [10, 50, 45, 30, 0, 0], \"Should be [10, 50, 45, 30, 0, 0]\"\n",
        "s.moveZero(lst)\n",
        "\n",
        "\n"
      ],
      "execution_count": 31,
      "outputs": [
        {
          "output_type": "execute_result",
          "data": {
            "text/plain": [
              "[10, 50, 45, 30, 0, 0]"
            ]
          },
          "metadata": {
            "tags": []
          },
          "execution_count": 31
        }
      ]
    },
    {
      "cell_type": "code",
      "metadata": {
        "id": "99T1-iW6994A"
      },
      "source": [
        ""
      ],
      "execution_count": null,
      "outputs": []
    },
    {
      "cell_type": "markdown",
      "metadata": {
        "id": "9oEuz8HRQmZj"
      },
      "source": [
        "2 - You are given an array people where people[i] is the weight of the ith person, and an infinite number of boats where each boat can carry a maximum weight of limit. Each boat carries at most two people at the same time, provided the sum of the weight of those people is at most limit.\n",
        "\n",
        "Return the minimum number of boats to carry every given person."
      ]
    },
    {
      "cell_type": "markdown",
      "metadata": {
        "id": "Bz9AvR3_9-6R"
      },
      "source": [
        "THIS SOLUTION IS FOR WHERE THE BOAT LIMIT IS NOT 2 PEOPLE BUT WEIGHT LIMIT\n"
      ]
    },
    {
      "cell_type": "code",
      "metadata": {
        "colab": {
          "base_uri": "https://localhost:8080/"
        },
        "id": "7EsbLUZf-RC9",
        "outputId": "927ad8f3-abe2-4e10-912a-9333f9cebe5c"
      },
      "source": [
        "class MoveBoats:\n",
        "  def move(self, people, limit):\n",
        "    nb = 0\n",
        "    ix = []\n",
        "    rp = len(people)\n",
        "    for i in range(rp):\n",
        "      if i not in ix:\n",
        "        remainder = 0\n",
        "        #print(\"People == \", people[i])\n",
        "        if people[i] == limit:\n",
        "          nb += 1\n",
        "        if people[i] < limit:\n",
        "          remainder = limit - people[i]\n",
        "          #print(\"REMAINDER == \", remainder)\n",
        "          for j in range(i+1, rp):\n",
        "            if people[j] == remainder and j not in ix:\n",
        "              #nb += 1\n",
        "              ix.append(j)\n",
        "              #print(\"IX == \", ix)\n",
        "              break\n",
        "            elif people[j] < remainder and j not in ix:\n",
        "              remainder -= people[j]\n",
        "              ix.append(j)\n",
        "\n",
        "          nb +=1\n",
        "    print(\"Boats ===================== \",  nb)\n",
        "    return nb\n",
        "\n",
        "\n",
        "s = MoveBoats()\n",
        "s.move([3,2,2,1,2], 3)\n",
        "assert s.move([3,2,2,1,2], 3) == 4, \"Should be 4 boats, Test case 1 Failed\"\n",
        "\n",
        "s.move([3,2,2,1,2], 4)\n",
        "assert s.move([3,2,2,1,2], 4) == 3, \"Should be 3 boats, Test case 2 Failed\"\n",
        "\n",
        "s.move([3,2,2,1,2,2,1,1,1], 4)\n",
        "assert s.move([3,2,2,1,2,2,1,1,1], 4) == 4, \"Should be 4 boats, Test case 3 Failed\"\n",
        "\n",
        "s.move([3,2,2,1,2,2,1,1,1,1,1,1,2,1], 4)\n",
        "assert s.move([3,2,2,1,2,2,1,1,1,1,1,1,2,1], 4) == 6, \"Should be 6 boats, Test case 4 Failed\"\n",
        "\n",
        "\n",
        "      \n"
      ],
      "execution_count": 53,
      "outputs": [
        {
          "output_type": "stream",
          "text": [
            "Boats =====================  4\n",
            "Boats =====================  4\n",
            "Boats =====================  3\n",
            "Boats =====================  3\n",
            "Boats =====================  4\n",
            "Boats =====================  4\n",
            "Boats =====================  6\n",
            "Boats =====================  6\n"
          ],
          "name": "stdout"
        }
      ]
    },
    {
      "cell_type": "markdown",
      "metadata": {
        "id": "jCIc2o38QYKs"
      },
      "source": [
        "THIS SOLUTION IS FOR WHERE THE BOAT LIMIT IS 2 PEOPLE BUT WEIGHT LIMIT --> ACTUAL LEET CODE QUESTION"
      ]
    },
    {
      "cell_type": "code",
      "metadata": {
        "colab": {
          "base_uri": "https://localhost:8080/"
        },
        "id": "L10nXZQLBCcx",
        "outputId": "63e13510-91f8-4df4-a24d-41fff565a78e"
      },
      "source": [
        "\n",
        "class MoveBoatsII:\n",
        "  def move(self, people, limit):\n",
        "    nb = 0\n",
        "    people = sorted(people)\n",
        "    #print(\"SORTED == \", people)\n",
        "    rp = len(people) - 1\n",
        "    lp = 0\n",
        "\n",
        "    while lp <= rp:\n",
        "      if lp == rp:\n",
        "        nb +=1\n",
        "        #print(\"EQUAL BOAT == \", nb)\n",
        "        break\n",
        "      \n",
        "      if (people[lp] + people[rp]) <= limit:\n",
        "        #print(\"POSITION == \", lp , rp)\n",
        "        #print(\"people[lp] + people[rp] == \", people[lp] , people[rp])\n",
        "        lp += 1\n",
        "      \n",
        "      rp -= 1\n",
        "      nb += 1\n",
        "      \n",
        "\n",
        "\n",
        "    print(\"Boats ===================== \",  nb)\n",
        "    return nb\n",
        "  \n",
        "s = MoveBoatsII()\n",
        "# s.move([3,2,2,1,2], 3)\n",
        "# assert s.move([3,2,2,1,2], 3) == 4, \"Should be 4 boats, Test case 1 Failed\"\n",
        "\n",
        "# s.move([3,2,2,1,2], 4)\n",
        "# assert s.move([3,2,2,1,2], 4) == 3, \"Should be 3 boats, Test case 2 Failed\"\n",
        "\n",
        "s.move([3,2,2,1,2,2,1,1,1], 4)\n",
        "assert s.move([3,2,2,1,2,2,1,1,1], 4) == 5, \"Should be 4 boats, Test case 3 Failed\"\n",
        "\n",
        "s.move([3,2,2,1,2,2,1,1,1,1,1,1,2,1], 4)\n",
        "assert s.move([3,2,2,1,2,2,1,1,1,1,1,1,2,1], 4) == 7, \"Should be 6 boats, Test case 4 Failed\""
      ],
      "execution_count": 66,
      "outputs": [
        {
          "output_type": "stream",
          "text": [
            "Boats =====================  5\n",
            "Boats =====================  5\n",
            "Boats =====================  7\n",
            "Boats =====================  7\n"
          ],
          "name": "stdout"
        }
      ]
    },
    {
      "cell_type": "markdown",
      "metadata": {
        "id": "IiXA8LD_QWkN"
      },
      "source": [
        ""
      ]
    },
    {
      "cell_type": "code",
      "metadata": {
        "id": "6o3_8LRByxwf"
      },
      "source": [
        ""
      ],
      "execution_count": null,
      "outputs": []
    }
  ]
}