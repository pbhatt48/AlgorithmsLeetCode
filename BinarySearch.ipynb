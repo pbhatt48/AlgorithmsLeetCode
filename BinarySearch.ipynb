{
  "nbformat": 4,
  "nbformat_minor": 0,
  "metadata": {
    "colab": {
      "name": "BinarySearch.ipynb",
      "provenance": [],
      "authorship_tag": "ABX9TyNKTf0+mzq05xO0Loznysf1",
      "include_colab_link": true
    },
    "kernelspec": {
      "name": "python3",
      "display_name": "Python 3"
    },
    "language_info": {
      "name": "python"
    }
  },
  "cells": [
    {
      "cell_type": "markdown",
      "metadata": {
        "id": "view-in-github",
        "colab_type": "text"
      },
      "source": [
        "<a href=\"https://colab.research.google.com/github/pbhatt48/AlgorithmsLeetCode/blob/main/BinarySearch.ipynb\" target=\"_parent\"><img src=\"https://colab.research.google.com/assets/colab-badge.svg\" alt=\"Open In Colab\"/></a>"
      ]
    },
    {
      "cell_type": "code",
      "metadata": {
        "id": "hQt_pSQLvMbR"
      },
      "source": [
        "import numpy as np\n",
        "import pandas as pd\n"
      ],
      "execution_count": 1,
      "outputs": []
    },
    {
      "cell_type": "code",
      "metadata": {
        "colab": {
          "base_uri": "https://localhost:8080/"
        },
        "id": "vMxTZpkrviuR",
        "outputId": "188c63df-39e3-4287-fbd7-448504e8a07b"
      },
      "source": [
        "def binarySearch(arr, target):\n",
        "    left = 0\n",
        "    right = len(arr)-1\n",
        "    while left <= right:\n",
        "\n",
        "        mid = (left+right)//2\n",
        "\n",
        "        # Check if x is present at mid\n",
        "        if arr[mid] == target:\n",
        "            return mid\n",
        "\n",
        "        # If x is greater, ignore left half\n",
        "        elif arr[mid] < target:\n",
        "            left = mid + 1\n",
        "\n",
        "        # If x is smaller, ignore right half\n",
        "        else:\n",
        "            right = mid - 1\n",
        "\n",
        "    # If we reach here, then the element was not present\n",
        "    return -1\n",
        "\n",
        "\n",
        "arr = [1, 2, 3, 4, 5, 6]\n",
        "target = 4\n",
        "\n",
        "result = binarySearch(arr, target)\n",
        "print(result)"
      ],
      "execution_count": 24,
      "outputs": [
        {
          "output_type": "stream",
          "text": [
            "3\n"
          ],
          "name": "stdout"
        }
      ]
    },
    {
      "cell_type": "code",
      "metadata": {
        "colab": {
          "base_uri": "https://localhost:8080/"
        },
        "id": "pnHz9yXBvolG",
        "outputId": "f20147a7-5938-4743-f01c-b2b5f7c2462b"
      },
      "source": [
        "def binarySearchPB(arr, target):\n",
        "  lg = len(arr)\n",
        "  arr = sorted(arr)\n",
        "  lt = 0\n",
        "  rt = lg - 1\n",
        "\n",
        "  while lt <= rt:\n",
        "    mid = (lt + rt) // 2\n",
        "    print(mid)\n",
        "    if arr[mid] == target: \n",
        "      return mid\n",
        "    elif arr[mid] < target:\n",
        "      lt = mid +1\n",
        "    else:\n",
        "      rt = mid -1\n",
        "\n",
        "\n",
        "arr = [1, 2, 3, 4, 5, 6]\n",
        "target = 9\n",
        "\n",
        "result = binarySearchPB(arr, target)\n",
        "print(result)"
      ],
      "execution_count": 38,
      "outputs": [
        {
          "output_type": "stream",
          "text": [
            "2\n",
            "4\n",
            "5\n",
            "None\n"
          ],
          "name": "stdout"
        }
      ]
    },
    {
      "cell_type": "code",
      "metadata": {
        "colab": {
          "base_uri": "https://localhost:8080/"
        },
        "id": "CH9aD0ox45ap",
        "outputId": "f8476a84-de7e-489e-a8c2-0da785e8057e"
      },
      "source": [
        "(4+5)//2"
      ],
      "execution_count": 7,
      "outputs": [
        {
          "output_type": "execute_result",
          "data": {
            "text/plain": [
              "4"
            ]
          },
          "metadata": {
            "tags": []
          },
          "execution_count": 7
        }
      ]
    },
    {
      "cell_type": "code",
      "metadata": {
        "id": "CNBSGhU748_t"
      },
      "source": [
        ""
      ],
      "execution_count": null,
      "outputs": []
    }
  ]
}