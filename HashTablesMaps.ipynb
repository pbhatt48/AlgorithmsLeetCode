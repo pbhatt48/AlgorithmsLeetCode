{
  "nbformat": 4,
  "nbformat_minor": 0,
  "metadata": {
    "colab": {
      "name": "HashTablesMaps.ipynb",
      "provenance": [],
      "authorship_tag": "ABX9TyNOl2Ox0a8NRfbs2Rw5gQNj",
      "include_colab_link": true
    },
    "kernelspec": {
      "name": "python3",
      "display_name": "Python 3"
    }
  },
  "cells": [
    {
      "cell_type": "markdown",
      "metadata": {
        "id": "view-in-github",
        "colab_type": "text"
      },
      "source": [
        "<a href=\"https://colab.research.google.com/github/pbhatt48/AlgorithmsLeetCode/blob/main/HashTablesMaps.ipynb\" target=\"_parent\"><img src=\"https://colab.research.google.com/assets/colab-badge.svg\" alt=\"Open In Colab\"/></a>"
      ]
    },
    {
      "cell_type": "code",
      "metadata": {
        "id": "c9IrtY5yPT2G"
      },
      "source": [
        ""
      ],
      "execution_count": null,
      "outputs": []
    },
    {
      "cell_type": "markdown",
      "metadata": {
        "id": "Fa6Zb2AaPb-E"
      },
      "source": [
        "Two Sum\n",
        "https://leetcode.com/problems/two-sum/"
      ]
    },
    {
      "cell_type": "code",
      "metadata": {
        "colab": {
          "base_uri": "https://localhost:8080/"
        },
        "id": "aDRDPXG2PgKh",
        "outputId": "f5a411e3-3899-4a9f-87b2-53db6d12f564"
      },
      "source": [
        "class TwoSum:\n",
        "  def findSum(self, nums, target):\n",
        "    #print(nums)\n",
        "    lg = len(nums)\n",
        "    for i in range(lg):\n",
        "      diff = target - nums[i]\n",
        "      if diff in nums and nums.index(diff) != i:\n",
        "        return [i, nums.index(diff)]\n",
        "    return -1\n",
        "\n",
        "s = TwoSum()\n",
        "print(s.findSum(nums = [2,7,11,15], target = 9))\n",
        "print(s.findSum(nums = [3,2,4], target = 6))\n",
        "print(s.findSum(nums = [3,3], target = 6))\n"
      ],
      "execution_count": null,
      "outputs": [
        {
          "output_type": "stream",
          "text": [
            "[0, 1]\n",
            "[1, 2]\n",
            "[1, 0]\n"
          ],
          "name": "stdout"
        }
      ]
    },
    {
      "cell_type": "code",
      "metadata": {
        "colab": {
          "base_uri": "https://localhost:8080/"
        },
        "id": "lmJlhd_xP2Oa",
        "outputId": "d07a539e-7ce5-4b50-956d-5e5b1cb94df5"
      },
      "source": [
        "###Use Maps function\n",
        "\n",
        "class TwoSum:\n",
        "  def findSum(self, nums, target):\n",
        "    #print(nums)\n",
        "    lg = len(nums)\n",
        "    m = {}\n",
        "    for i in range(lg):\n",
        "      diff = target - nums[i]\n",
        "      if diff in m:\n",
        "        return [i, nums.index(diff)]\n",
        "      m[nums[i]] = i\n",
        "\n",
        "s = TwoSum()\n",
        "print(s.findSum(nums = [2,7,11,15], target = 9))\n",
        "print(s.findSum(nums = [3,2,4], target = 6))\n",
        "print(s.findSum(nums = [3,3], target = 6))\n"
      ],
      "execution_count": null,
      "outputs": [
        {
          "output_type": "stream",
          "text": [
            "[1, 0]\n",
            "[2, 1]\n",
            "[1, 0]\n"
          ],
          "name": "stdout"
        }
      ]
    },
    {
      "cell_type": "code",
      "metadata": {
        "id": "QK7h3pB_TZSA"
      },
      "source": [
        ""
      ],
      "execution_count": null,
      "outputs": []
    },
    {
      "cell_type": "markdown",
      "metadata": {
        "id": "mHX0dIMKg_Qj"
      },
      "source": [
        "Contains duplicate\n",
        "https://leetcode.com/problems/contains-duplicate/"
      ]
    },
    {
      "cell_type": "code",
      "metadata": {
        "colab": {
          "base_uri": "https://localhost:8080/"
        },
        "id": "HyUdVbjghBtB",
        "outputId": "93848734-8c1a-4c37-909d-831c12d11656"
      },
      "source": [
        "#Runtime: 116 ms, faster than 81.35% of Python3 online submissions for Contains Duplicate.\n",
        "class Duplicates:\n",
        "  def findDuplicate(self, nums):\n",
        "    #print(nums)\n",
        "    lg = len(nums)\n",
        "    uniq = set(nums)\n",
        "    return lg != len(uniq)\n",
        "\n",
        "s = Duplicates()\n",
        "print(s.findDuplicate(nums = [1,1,1,3,3,4,3,2,4,2]))\n",
        "print(s.findDuplicate(nums = [1,2,3,1]))\n",
        "print(s.findDuplicate(nums = [3,3]))\n",
        "print(s.findDuplicate(nums = [1,2,3,4]))\n"
      ],
      "execution_count": null,
      "outputs": [
        {
          "output_type": "stream",
          "text": [
            "True\n",
            "True\n",
            "True\n",
            "False\n"
          ],
          "name": "stdout"
        }
      ]
    },
    {
      "cell_type": "code",
      "metadata": {
        "colab": {
          "base_uri": "https://localhost:8080/"
        },
        "id": "080YnYZRh7Ip",
        "outputId": "f4042e08-f54a-4389-8ef8-db56901b0d2a"
      },
      "source": [
        "#Using map Runtime: 156 ms, faster than 13.17% of Python3 online submissions for Contains Duplicate.\n",
        "class Duplicates:\n",
        "  def findDuplicate(self, nums):\n",
        "    #print(nums)\n",
        "    lg = len(nums)\n",
        "    uniq = set(nums)\n",
        "    m ={}\n",
        "    for i in range(lg):\n",
        "      if nums[i] in m:\n",
        "        return True \n",
        "      else: m[nums[i]] = i\n",
        "    return False\n",
        "\n",
        "s = Duplicates()\n",
        "print(s.findDuplicate(nums = [1,1,1,3,3,4,3,2,4,2]))\n",
        "print(s.findDuplicate(nums = [1,2,3,1]))\n",
        "print(s.findDuplicate(nums = [3,3]))\n",
        "print(s.findDuplicate(nums = [1,2,3,4]))"
      ],
      "execution_count": null,
      "outputs": [
        {
          "output_type": "stream",
          "text": [
            "True\n",
            "True\n",
            "True\n",
            "False\n"
          ],
          "name": "stdout"
        }
      ]
    },
    {
      "cell_type": "code",
      "metadata": {
        "id": "b4fvyJb2i7_w"
      },
      "source": [
        ""
      ],
      "execution_count": null,
      "outputs": []
    },
    {
      "cell_type": "markdown",
      "metadata": {
        "id": "bii7gTSjkIKl"
      },
      "source": [
        "Majority Element\n",
        "\n",
        "https://leetcode.com/problems/majority-element/"
      ]
    },
    {
      "cell_type": "code",
      "metadata": {
        "colab": {
          "base_uri": "https://localhost:8080/"
        },
        "id": "kSbtsBQVmp3x",
        "outputId": "630e7fff-4157-43ec-94f6-2da3447641b1"
      },
      "source": [
        "class MajorityElement:\n",
        "  def findMaj(self, nums):\n",
        "    lg = len(nums)\n",
        "    m = {}\n",
        "    maj_element = -1\n",
        "    maj_val = -1\n",
        "    if lg == 1: return nums[0]\n",
        "    for i in range(lg):\n",
        "      if nums[i] in m:\n",
        "        m[nums[i]] +=  1\n",
        "        #print(\" m[nums[i] == \", m[nums[i]], \"nums[i] == \", nums[i], \"  maj val == \", maj_val)\n",
        "        if m[nums[i]] > maj_val:\n",
        "          maj_val = m[nums[i]]\n",
        "          maj_element = nums[i]\n",
        "      else: m[nums[i]] = 1\n",
        "    print(\"M == \", m)\n",
        "    return maj_element\n",
        "\n",
        "s = MajorityElement()\n",
        "print(s.findMaj([3,2,3]))\n",
        "print(s.findMaj([2,2,1,1,1,2,2]))\n",
        "print(s.findMaj([1]))\n",
        "print(s.findMaj([6,6,6,7,7]))\n",
        "print(s.findMaj([8,8,7,7,7]))\n",
        "\n",
        "\n"
      ],
      "execution_count": null,
      "outputs": [
        {
          "output_type": "stream",
          "text": [
            "M ==  {3: 2, 2: 1}\n",
            "3\n",
            "M ==  {2: 4, 1: 3}\n",
            "2\n",
            "1\n",
            "M ==  {6: 3, 7: 2}\n",
            "6\n",
            "M ==  {8: 2, 7: 3}\n",
            "7\n"
          ],
          "name": "stdout"
        }
      ]
    },
    {
      "cell_type": "code",
      "metadata": {
        "id": "Ulgt3cTKoFAR"
      },
      "source": [
        "\n"
      ],
      "execution_count": null,
      "outputs": []
    },
    {
      "cell_type": "markdown",
      "metadata": {
        "id": "N8jdwxAi-UsN"
      },
      "source": [
        "Group the anagrams\n",
        "https://leetcode.com/problems/group-anagrams/\n",
        "\n",
        "\n",
        "Input: strs = [\"eat\",\"tea\",\"tan\",\"ate\",\"nat\",\"bat\"]\n",
        "Output: [[\"bat\"],[\"nat\",\"tan\"],[\"ate\",\"eat\",\"tea\"]]"
      ]
    },
    {
      "cell_type": "code",
      "metadata": {
        "colab": {
          "base_uri": "https://localhost:8080/"
        },
        "id": "63EyIWbtteKa",
        "outputId": "c29c9660-f183-4da5-bb60-2f7fba973353"
      },
      "source": [
        "class Anagrams:\n",
        "  def group_anagrams(self, strs):\n",
        "    lg = len(strs)\n",
        "    m = {}\n",
        "    for i in range(lg):\n",
        "      sorted_entry = ''.join(sorted(strs[i]))\n",
        "      if sorted_entry in m:\n",
        "        val = m[sorted_entry]\n",
        "        val.append(strs[i])\n",
        "        m[sorted_entry] = val\n",
        "      else:\n",
        "        m[sorted_entry] = [strs[i]]\n",
        "    rt = [m[v] for v in m]\n",
        "    return rt\n",
        "s = Anagrams()\n",
        "print(s.group_anagrams([\"eat\",\"tea\",\"tan\",\"ate\",\"nat\",\"bat\"]))  "
      ],
      "execution_count": null,
      "outputs": [
        {
          "output_type": "stream",
          "text": [
            "[['eat', 'tea', 'ate'], ['tan', 'nat'], ['bat']]\n"
          ],
          "name": "stdout"
        }
      ]
    },
    {
      "cell_type": "code",
      "metadata": {
        "id": "-o1EKf_3Aczg"
      },
      "source": [
        ""
      ],
      "execution_count": null,
      "outputs": []
    },
    {
      "cell_type": "markdown",
      "metadata": {
        "id": "sh8KWzwfi1S5"
      },
      "source": [
        "4 SUM II \n",
        "https://leetcode.com/problems/4sum-ii/\n",
        "\n",
        "\n",
        "Given four lists A, B, C, D of integer values, compute how many tuples (i, j, k, l) there are such that A[i] + B[j] + C[k] + D[l] is zero.\n",
        "\n",
        "To make problem a bit easier, all A, B, C, D have same length of N where 0 ≤ N ≤ 500. All integers are in the range of -228 to 228 - 1 and the result is guaranteed to be at most 231 - 1.\n",
        "\n",
        "Example:\n",
        "\n",
        "Input:\n",
        "A = [ 1, 2]\n",
        "B = [-2,-1]\n",
        "C = [-1, 2]\n",
        "D = [ 0, 2]\n",
        "\n",
        "Output:\n",
        "2\n",
        "\n",
        "Explanation:\n",
        "The two tuples are:\n",
        "1. (0, 0, 0, 1) -> A[0] + B[0] + C[0] + D[1] = 1 + (-2) + (-1) + 2 = 0\n",
        "2. (1, 1, 0, 0) -> A[1] + B[1] + C[0] + D[0] = 2 + (-1) + (-1) + 0 = 0"
      ]
    },
    {
      "cell_type": "code",
      "metadata": {
        "colab": {
          "base_uri": "https://localhost:8080/"
        },
        "id": "yw_Uc9XuBdbG",
        "outputId": "490e8ee5-3b99-4f67-b07c-04e2defa95a3"
      },
      "source": [
        "## this is ON4 complexity\n",
        "class SUMII:\n",
        "  def getSum(self, a, b, c, d):\n",
        "    record = []\n",
        "    counter = 0\n",
        "    for am in a:\n",
        "      for bm in b:\n",
        "        for cm in c:\n",
        "          for dm in d:\n",
        "            if (am + bm + cm + dm) == 0:\n",
        "              counter += 1\n",
        "              temp = list((am, bm, cm, dm))\n",
        "              record.append(temp)\n",
        "    \n",
        "\n",
        "    print(counter , record)\n",
        "    return counter\n",
        "\n",
        "\n",
        "s = SUMII()\n",
        "A = [ 1, 2]; B = [-2,-1]; C = [-1, 2]; D = [ 0, 2]\n",
        "s.getSum(A, B, C, D)"
      ],
      "execution_count": null,
      "outputs": [
        {
          "output_type": "stream",
          "text": [
            "2 [[1, -2, -1, 2], [2, -1, -1, 0]]\n"
          ],
          "name": "stdout"
        },
        {
          "output_type": "execute_result",
          "data": {
            "text/plain": [
              "2"
            ]
          },
          "metadata": {
            "tags": []
          },
          "execution_count": 10
        }
      ]
    },
    {
      "cell_type": "code",
      "metadata": {
        "colab": {
          "base_uri": "https://localhost:8080/"
        },
        "id": "L2lLr9ln6_tH",
        "outputId": "6c1e7a2f-258b-4765-e4b4-b715c942509e"
      },
      "source": [
        "## this is ON4 complexity\n",
        "class SUMII:\n",
        "  def getSum(self, A, B, C, D):\n",
        "    m = {}\n",
        "    ans = 0\n",
        "    for am in A:\n",
        "      for bm in B:\n",
        "        if am+bm not in m:\n",
        "          m[am+bm] = 0\n",
        "\n",
        "        m[am+bm] += 1\n",
        "    print(\"M == \", m)\n",
        "    for cm in C:\n",
        "      for dm in D:\n",
        "        tg = -(cm + dm)\n",
        "        if tg in m:\n",
        "          ans += m[tg]\n",
        "    \n",
        "\n",
        "    #print(counter , record)\n",
        "    return ans\n",
        "\n",
        "\n",
        "s = SUMII()\n",
        "A = [ 1, 2]; B = [-2,-1]; C = [-1, 2]; D = [ 0, 2]\n",
        "print(s.getSum(A, B, C, D))\n",
        "A = [-1,-1]\n",
        "B = [-1,1]\n",
        "C = [-1,1]\n",
        "D = [1,-1]\n",
        "s.getSum(A, B, C, D)"
      ],
      "execution_count": null,
      "outputs": [
        {
          "output_type": "stream",
          "text": [
            "M ==  {-1: 1, 0: 2, 1: 1}\n",
            "2\n",
            "M ==  {-2: 2, 0: 2}\n"
          ],
          "name": "stdout"
        },
        {
          "output_type": "execute_result",
          "data": {
            "text/plain": [
              "6"
            ]
          },
          "metadata": {
            "tags": []
          },
          "execution_count": 18
        }
      ]
    },
    {
      "cell_type": "code",
      "metadata": {
        "id": "K-TpcJdh6_1s"
      },
      "source": [
        "\n"
      ],
      "execution_count": null,
      "outputs": []
    },
    {
      "cell_type": "code",
      "metadata": {
        "id": "UqgxrpoM6_7i"
      },
      "source": [
        ""
      ],
      "execution_count": null,
      "outputs": []
    },
    {
      "cell_type": "markdown",
      "metadata": {
        "id": "iq9a_jfFRqNS"
      },
      "source": [
        "Min Window Substring\n",
        "https://leetcode.com/problems/minimum-window-substring/"
      ]
    },
    {
      "cell_type": "code",
      "metadata": {
        "id": "eXHb1mU-6__Y",
        "outputId": "0e2bb386-9c7c-4e14-dd03-9861bfdee540",
        "colab": {
          "base_uri": "https://localhost:8080/"
        }
      },
      "source": [
        "#brute force\n",
        "\n",
        "def minWindow(s,t):\n",
        "  lg = len(s)\n",
        "  myval = []\n",
        "  myans = s\n",
        "  if len(t) > len(s): return ''\n",
        "  if len(t) == len(s) and set(t) == set(s): return s\n",
        "  if len(t) == len(s) and set(t) != set(s): return ''\n",
        "  mybool = False\n",
        "  for i in range(lg):\n",
        "    for j in range(i+1,lg+1):\n",
        "      myval.append(s[i:j])\n",
        "      getVal = s[i:j]\n",
        "\n",
        "      tempCheck = [i in getVal for i in t]\n",
        "      print(\"get val == \", getVal, \"tempCheck ==\", tempCheck)\n",
        "      if len(set(tempCheck)) == 1 and True in tempCheck:\n",
        "        mybool = True\n",
        "        if len(getVal) < len(myans):\n",
        "          myans = getVal\n",
        "\n",
        "          print(\"MYANS ====== \", myans)\n",
        "  if mybool == False: return \"\"\n",
        "  print(mybool)\n",
        "  print(\"MY ANS --->> \", myans)\n",
        "  return (myans)\n",
        "\n",
        "\n",
        "   \n",
        "# Driver Code\n",
        "if __name__ == '__main__':\n",
        "  s = \"ADOBECODEBANC\"; t = \"ABC\"\n",
        "\n",
        "  print(minWindow(s, t))"
      ],
      "execution_count": 1,
      "outputs": [
        {
          "output_type": "stream",
          "text": [
            "get val ==  A tempCheck == [True, False, False]\n",
            "get val ==  AD tempCheck == [True, False, False]\n",
            "get val ==  ADO tempCheck == [True, False, False]\n",
            "get val ==  ADOB tempCheck == [True, True, False]\n",
            "get val ==  ADOBE tempCheck == [True, True, False]\n",
            "get val ==  ADOBEC tempCheck == [True, True, True]\n",
            "MYANS ======  ADOBEC\n",
            "get val ==  ADOBECO tempCheck == [True, True, True]\n",
            "get val ==  ADOBECOD tempCheck == [True, True, True]\n",
            "get val ==  ADOBECODE tempCheck == [True, True, True]\n",
            "get val ==  ADOBECODEB tempCheck == [True, True, True]\n",
            "get val ==  ADOBECODEBA tempCheck == [True, True, True]\n",
            "get val ==  ADOBECODEBAN tempCheck == [True, True, True]\n",
            "get val ==  ADOBECODEBANC tempCheck == [True, True, True]\n",
            "get val ==  D tempCheck == [False, False, False]\n",
            "get val ==  DO tempCheck == [False, False, False]\n",
            "get val ==  DOB tempCheck == [False, True, False]\n",
            "get val ==  DOBE tempCheck == [False, True, False]\n",
            "get val ==  DOBEC tempCheck == [False, True, True]\n",
            "get val ==  DOBECO tempCheck == [False, True, True]\n",
            "get val ==  DOBECOD tempCheck == [False, True, True]\n",
            "get val ==  DOBECODE tempCheck == [False, True, True]\n",
            "get val ==  DOBECODEB tempCheck == [False, True, True]\n",
            "get val ==  DOBECODEBA tempCheck == [True, True, True]\n",
            "get val ==  DOBECODEBAN tempCheck == [True, True, True]\n",
            "get val ==  DOBECODEBANC tempCheck == [True, True, True]\n",
            "get val ==  O tempCheck == [False, False, False]\n",
            "get val ==  OB tempCheck == [False, True, False]\n",
            "get val ==  OBE tempCheck == [False, True, False]\n",
            "get val ==  OBEC tempCheck == [False, True, True]\n",
            "get val ==  OBECO tempCheck == [False, True, True]\n",
            "get val ==  OBECOD tempCheck == [False, True, True]\n",
            "get val ==  OBECODE tempCheck == [False, True, True]\n",
            "get val ==  OBECODEB tempCheck == [False, True, True]\n",
            "get val ==  OBECODEBA tempCheck == [True, True, True]\n",
            "get val ==  OBECODEBAN tempCheck == [True, True, True]\n",
            "get val ==  OBECODEBANC tempCheck == [True, True, True]\n",
            "get val ==  B tempCheck == [False, True, False]\n",
            "get val ==  BE tempCheck == [False, True, False]\n",
            "get val ==  BEC tempCheck == [False, True, True]\n",
            "get val ==  BECO tempCheck == [False, True, True]\n",
            "get val ==  BECOD tempCheck == [False, True, True]\n",
            "get val ==  BECODE tempCheck == [False, True, True]\n",
            "get val ==  BECODEB tempCheck == [False, True, True]\n",
            "get val ==  BECODEBA tempCheck == [True, True, True]\n",
            "get val ==  BECODEBAN tempCheck == [True, True, True]\n",
            "get val ==  BECODEBANC tempCheck == [True, True, True]\n",
            "get val ==  E tempCheck == [False, False, False]\n",
            "get val ==  EC tempCheck == [False, False, True]\n",
            "get val ==  ECO tempCheck == [False, False, True]\n",
            "get val ==  ECOD tempCheck == [False, False, True]\n",
            "get val ==  ECODE tempCheck == [False, False, True]\n",
            "get val ==  ECODEB tempCheck == [False, True, True]\n",
            "get val ==  ECODEBA tempCheck == [True, True, True]\n",
            "get val ==  ECODEBAN tempCheck == [True, True, True]\n",
            "get val ==  ECODEBANC tempCheck == [True, True, True]\n",
            "get val ==  C tempCheck == [False, False, True]\n",
            "get val ==  CO tempCheck == [False, False, True]\n",
            "get val ==  COD tempCheck == [False, False, True]\n",
            "get val ==  CODE tempCheck == [False, False, True]\n",
            "get val ==  CODEB tempCheck == [False, True, True]\n",
            "get val ==  CODEBA tempCheck == [True, True, True]\n",
            "get val ==  CODEBAN tempCheck == [True, True, True]\n",
            "get val ==  CODEBANC tempCheck == [True, True, True]\n",
            "get val ==  O tempCheck == [False, False, False]\n",
            "get val ==  OD tempCheck == [False, False, False]\n",
            "get val ==  ODE tempCheck == [False, False, False]\n",
            "get val ==  ODEB tempCheck == [False, True, False]\n",
            "get val ==  ODEBA tempCheck == [True, True, False]\n",
            "get val ==  ODEBAN tempCheck == [True, True, False]\n",
            "get val ==  ODEBANC tempCheck == [True, True, True]\n",
            "get val ==  D tempCheck == [False, False, False]\n",
            "get val ==  DE tempCheck == [False, False, False]\n",
            "get val ==  DEB tempCheck == [False, True, False]\n",
            "get val ==  DEBA tempCheck == [True, True, False]\n",
            "get val ==  DEBAN tempCheck == [True, True, False]\n",
            "get val ==  DEBANC tempCheck == [True, True, True]\n",
            "get val ==  E tempCheck == [False, False, False]\n",
            "get val ==  EB tempCheck == [False, True, False]\n",
            "get val ==  EBA tempCheck == [True, True, False]\n",
            "get val ==  EBAN tempCheck == [True, True, False]\n",
            "get val ==  EBANC tempCheck == [True, True, True]\n",
            "MYANS ======  EBANC\n",
            "get val ==  B tempCheck == [False, True, False]\n",
            "get val ==  BA tempCheck == [True, True, False]\n",
            "get val ==  BAN tempCheck == [True, True, False]\n",
            "get val ==  BANC tempCheck == [True, True, True]\n",
            "MYANS ======  BANC\n",
            "get val ==  A tempCheck == [True, False, False]\n",
            "get val ==  AN tempCheck == [True, False, False]\n",
            "get val ==  ANC tempCheck == [True, False, True]\n",
            "get val ==  N tempCheck == [False, False, False]\n",
            "get val ==  NC tempCheck == [False, False, True]\n",
            "get val ==  C tempCheck == [False, False, True]\n",
            "True\n",
            "MY ANS --->>  BANC\n",
            "BANC\n"
          ],
          "name": "stdout"
        }
      ]
    },
    {
      "cell_type": "code",
      "metadata": {
        "id": "wlJ2YgM47AFX",
        "outputId": "5189aa8f-f674-4faa-a0d8-03df92ace5be",
        "colab": {
          "base_uri": "https://localhost:8080/"
        }
      },
      "source": [
        "#brute force\n",
        "\n",
        "def minWindow(s,t):\n",
        "  lg = len(s)\n",
        "  myval = []\n",
        "  myans = s\n",
        "  print(\"PRACTICE\")\n",
        "\n",
        "  return (myans)\n",
        "\n",
        "\n",
        "   \n",
        "# Driver Code\n",
        "if __name__ == '__main__':\n",
        "  s = \"ADOBECODEBANC\"; t = \"ABC\"\n",
        "\n",
        "  print(minWindow(s, t))"
      ],
      "execution_count": 3,
      "outputs": [
        {
          "output_type": "stream",
          "text": [
            "PRACTICE\n",
            "ADOBECODEBANC\n"
          ],
          "name": "stdout"
        }
      ]
    },
    {
      "cell_type": "code",
      "metadata": {
        "id": "K4Xr8VhQ7AO0"
      },
      "source": [
        ""
      ],
      "execution_count": null,
      "outputs": []
    },
    {
      "cell_type": "code",
      "metadata": {
        "id": "Q6PNvA6E7AYF"
      },
      "source": [
        ""
      ],
      "execution_count": null,
      "outputs": []
    },
    {
      "cell_type": "code",
      "metadata": {
        "id": "05DKLshu7Aei"
      },
      "source": [
        ""
      ],
      "execution_count": null,
      "outputs": []
    },
    {
      "cell_type": "code",
      "metadata": {
        "id": "ME-gX3ui7Akm"
      },
      "source": [
        ""
      ],
      "execution_count": null,
      "outputs": []
    },
    {
      "cell_type": "code",
      "metadata": {
        "id": "FihgVQM4VIvj",
        "colab": {
          "base_uri": "https://localhost:8080/"
        },
        "outputId": "75fc620f-2a43-4862-de63-0b5e11337a19"
      },
      "source": [
        "## INTERVIEW QUESTIONS\n",
        "#Epic systems: \n",
        "\n",
        "def triangel(values):\n",
        "  values = list(values)\n",
        "  print(','.join(str(v) for v in values))\n",
        "  lg = len(values)\n",
        "\n",
        "  for i in range(len(values)-1):\n",
        "    arr = []\n",
        "    for i in range(1, len(values)):\n",
        "      arr.append(values[i] + values[i-1])\n",
        "    print(','.join([str(k) for k in arr]))\n",
        "    values = arr\n",
        "    \n",
        "triangel((1,3,4,5,6))   \n"
      ],
      "execution_count": null,
      "outputs": [
        {
          "output_type": "stream",
          "text": [
            "1,3,4,5,6\n",
            "4,7,9,11\n",
            "11,16,20\n",
            "27,36\n",
            "63\n"
          ],
          "name": "stdout"
        }
      ]
    },
    {
      "cell_type": "code",
      "metadata": {
        "colab": {
          "base_uri": "https://localhost:8080/"
        },
        "id": "mw-em00VAOWo",
        "outputId": "449b9e5a-0df4-4e39-8500-226b27646edf"
      },
      "source": [
        "##Epic systems: \n",
        "#check for the multiples in the list\n",
        "def checkMult(nums):\n",
        "  get_multiples = []\n",
        "  lg = len(nums)\n",
        "  for i in range(lg):\n",
        "    for j in range(i+1, lg):\n",
        "      #print(\"nums[i] == \" , nums[i] , \"nums[j] == \", nums[j])\n",
        "      get_multiples.append(nums[i]*nums[j])\n",
        "  print(\"GET MULTIPLES == \", get_multiples)\n",
        "  for k in set(get_multiples):\n",
        "    if k in nums:\n",
        "      return True\n",
        "  return False\n",
        "\n",
        "  print(get_multiples)\n",
        "\n",
        "\n",
        "\n",
        "print(checkMult([1,2,3,4,5,8]))\n",
        "print(checkMult([2,3,4,5,7,23]))\n"
      ],
      "execution_count": null,
      "outputs": [
        {
          "output_type": "stream",
          "text": [
            "GET MULTIPLES ==  [2, 3, 4, 5, 8, 6, 8, 10, 16, 12, 15, 24, 20, 32, 40]\n",
            "True\n",
            "GET MULTIPLES ==  [6, 8, 10, 14, 46, 12, 15, 21, 69, 20, 28, 92, 35, 115, 161]\n",
            "False\n"
          ],
          "name": "stdout"
        }
      ]
    },
    {
      "cell_type": "code",
      "metadata": {
        "id": "x9kVu3vgNpqW"
      },
      "source": [
        "#Interview Questions: IAI\n",
        "#What is DR and explain DR and one methodologies.\n",
        "#What is DT and explain supervised and unsupervised?\n",
        "#What is your OOP experience and explain encapsulation and polymerphism in OOP\n",
        "#DT vs RT vs ensemble methods?\n",
        "#Python wrapper on C++\n",
        "#Features selection\n",
        "#Describe your python development apps that you have developed ## IDE experienceSpyder\n",
        "#Bootstapping and ensemble\n",
        "#Why Gini and Entropy to measure the split? And what are these criterion?"
      ],
      "execution_count": null,
      "outputs": []
    },
    {
      "cell_type": "code",
      "metadata": {
        "id": "5S6RbRhdft5I"
      },
      "source": [
        ""
      ],
      "execution_count": null,
      "outputs": []
    }
  ]
}