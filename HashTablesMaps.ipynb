{
  "nbformat": 4,
  "nbformat_minor": 0,
  "metadata": {
    "colab": {
      "name": "HashTablesMaps.ipynb",
      "provenance": [],
      "authorship_tag": "ABX9TyOgDCNHgvdK3qy6sD3c7daa",
      "include_colab_link": true
    },
    "kernelspec": {
      "name": "python3",
      "display_name": "Python 3"
    }
  },
  "cells": [
    {
      "cell_type": "markdown",
      "metadata": {
        "id": "view-in-github",
        "colab_type": "text"
      },
      "source": [
        "<a href=\"https://colab.research.google.com/github/pbhatt48/AlgorithmsLeetCode/blob/main/HashTablesMaps.ipynb\" target=\"_parent\"><img src=\"https://colab.research.google.com/assets/colab-badge.svg\" alt=\"Open In Colab\"/></a>"
      ]
    },
    {
      "cell_type": "code",
      "metadata": {
        "id": "c9IrtY5yPT2G"
      },
      "source": [
        ""
      ],
      "execution_count": null,
      "outputs": []
    },
    {
      "cell_type": "markdown",
      "metadata": {
        "id": "Fa6Zb2AaPb-E"
      },
      "source": [
        "Two Sum\n",
        "https://leetcode.com/problems/two-sum/"
      ]
    },
    {
      "cell_type": "code",
      "metadata": {
        "colab": {
          "base_uri": "https://localhost:8080/"
        },
        "id": "aDRDPXG2PgKh",
        "outputId": "f5a411e3-3899-4a9f-87b2-53db6d12f564"
      },
      "source": [
        "class TwoSum:\n",
        "  def findSum(self, nums, target):\n",
        "    #print(nums)\n",
        "    lg = len(nums)\n",
        "    for i in range(lg):\n",
        "      diff = target - nums[i]\n",
        "      if diff in nums and nums.index(diff) != i:\n",
        "        return [i, nums.index(diff)]\n",
        "    return -1\n",
        "\n",
        "s = TwoSum()\n",
        "print(s.findSum(nums = [2,7,11,15], target = 9))\n",
        "print(s.findSum(nums = [3,2,4], target = 6))\n",
        "print(s.findSum(nums = [3,3], target = 6))\n"
      ],
      "execution_count": 8,
      "outputs": [
        {
          "output_type": "stream",
          "text": [
            "[0, 1]\n",
            "[1, 2]\n",
            "[1, 0]\n"
          ],
          "name": "stdout"
        }
      ]
    },
    {
      "cell_type": "code",
      "metadata": {
        "colab": {
          "base_uri": "https://localhost:8080/"
        },
        "id": "lmJlhd_xP2Oa",
        "outputId": "d07a539e-7ce5-4b50-956d-5e5b1cb94df5"
      },
      "source": [
        "###Use Maps function\n",
        "\n",
        "class TwoSum:\n",
        "  def findSum(self, nums, target):\n",
        "    #print(nums)\n",
        "    lg = len(nums)\n",
        "    m = {}\n",
        "    for i in range(lg):\n",
        "      diff = target - nums[i]\n",
        "      if diff in m:\n",
        "        return [i, nums.index(diff)]\n",
        "      m[nums[i]] = i\n",
        "\n",
        "s = TwoSum()\n",
        "print(s.findSum(nums = [2,7,11,15], target = 9))\n",
        "print(s.findSum(nums = [3,2,4], target = 6))\n",
        "print(s.findSum(nums = [3,3], target = 6))\n"
      ],
      "execution_count": 9,
      "outputs": [
        {
          "output_type": "stream",
          "text": [
            "[1, 0]\n",
            "[2, 1]\n",
            "[1, 0]\n"
          ],
          "name": "stdout"
        }
      ]
    },
    {
      "cell_type": "code",
      "metadata": {
        "id": "QK7h3pB_TZSA"
      },
      "source": [
        ""
      ],
      "execution_count": null,
      "outputs": []
    },
    {
      "cell_type": "markdown",
      "metadata": {
        "id": "mHX0dIMKg_Qj"
      },
      "source": [
        "Contains duplicate\n",
        "https://leetcode.com/problems/contains-duplicate/"
      ]
    },
    {
      "cell_type": "code",
      "metadata": {
        "colab": {
          "base_uri": "https://localhost:8080/"
        },
        "id": "HyUdVbjghBtB",
        "outputId": "93848734-8c1a-4c37-909d-831c12d11656"
      },
      "source": [
        "#Runtime: 116 ms, faster than 81.35% of Python3 online submissions for Contains Duplicate.\n",
        "class Duplicates:\n",
        "  def findDuplicate(self, nums):\n",
        "    #print(nums)\n",
        "    lg = len(nums)\n",
        "    uniq = set(nums)\n",
        "    return lg != len(uniq)\n",
        "\n",
        "s = Duplicates()\n",
        "print(s.findDuplicate(nums = [1,1,1,3,3,4,3,2,4,2]))\n",
        "print(s.findDuplicate(nums = [1,2,3,1]))\n",
        "print(s.findDuplicate(nums = [3,3]))\n",
        "print(s.findDuplicate(nums = [1,2,3,4]))\n"
      ],
      "execution_count": 13,
      "outputs": [
        {
          "output_type": "stream",
          "text": [
            "True\n",
            "True\n",
            "True\n",
            "False\n"
          ],
          "name": "stdout"
        }
      ]
    },
    {
      "cell_type": "code",
      "metadata": {
        "colab": {
          "base_uri": "https://localhost:8080/"
        },
        "id": "080YnYZRh7Ip",
        "outputId": "f4042e08-f54a-4389-8ef8-db56901b0d2a"
      },
      "source": [
        "#Using map Runtime: 156 ms, faster than 13.17% of Python3 online submissions for Contains Duplicate.\n",
        "class Duplicates:\n",
        "  def findDuplicate(self, nums):\n",
        "    #print(nums)\n",
        "    lg = len(nums)\n",
        "    uniq = set(nums)\n",
        "    m ={}\n",
        "    for i in range(lg):\n",
        "      if nums[i] in m:\n",
        "        return True \n",
        "      else: m[nums[i]] = i\n",
        "    return False\n",
        "\n",
        "s = Duplicates()\n",
        "print(s.findDuplicate(nums = [1,1,1,3,3,4,3,2,4,2]))\n",
        "print(s.findDuplicate(nums = [1,2,3,1]))\n",
        "print(s.findDuplicate(nums = [3,3]))\n",
        "print(s.findDuplicate(nums = [1,2,3,4]))"
      ],
      "execution_count": 14,
      "outputs": [
        {
          "output_type": "stream",
          "text": [
            "True\n",
            "True\n",
            "True\n",
            "False\n"
          ],
          "name": "stdout"
        }
      ]
    },
    {
      "cell_type": "code",
      "metadata": {
        "id": "b4fvyJb2i7_w"
      },
      "source": [
        ""
      ],
      "execution_count": null,
      "outputs": []
    },
    {
      "cell_type": "markdown",
      "metadata": {
        "id": "bii7gTSjkIKl"
      },
      "source": [
        "Majority Element\n",
        "\n",
        "https://leetcode.com/problems/majority-element/"
      ]
    },
    {
      "cell_type": "code",
      "metadata": {
        "colab": {
          "base_uri": "https://localhost:8080/"
        },
        "id": "kSbtsBQVmp3x",
        "outputId": "630e7fff-4157-43ec-94f6-2da3447641b1"
      },
      "source": [
        "class MajorityElement:\n",
        "  def findMaj(self, nums):\n",
        "    lg = len(nums)\n",
        "    m = {}\n",
        "    maj_element = -1\n",
        "    maj_val = -1\n",
        "    if lg == 1: return nums[0]\n",
        "    for i in range(lg):\n",
        "      if nums[i] in m:\n",
        "        m[nums[i]] +=  1\n",
        "        #print(\" m[nums[i] == \", m[nums[i]], \"nums[i] == \", nums[i], \"  maj val == \", maj_val)\n",
        "        if m[nums[i]] > maj_val:\n",
        "          maj_val = m[nums[i]]\n",
        "          maj_element = nums[i]\n",
        "      else: m[nums[i]] = 1\n",
        "    print(\"M == \", m)\n",
        "    return maj_element\n",
        "\n",
        "s = MajorityElement()\n",
        "print(s.findMaj([3,2,3]))\n",
        "print(s.findMaj([2,2,1,1,1,2,2]))\n",
        "print(s.findMaj([1]))\n",
        "print(s.findMaj([6,6,6,7,7]))\n",
        "print(s.findMaj([8,8,7,7,7]))\n",
        "\n",
        "\n"
      ],
      "execution_count": 34,
      "outputs": [
        {
          "output_type": "stream",
          "text": [
            "M ==  {3: 2, 2: 1}\n",
            "3\n",
            "M ==  {2: 4, 1: 3}\n",
            "2\n",
            "1\n",
            "M ==  {6: 3, 7: 2}\n",
            "6\n",
            "M ==  {8: 2, 7: 3}\n",
            "7\n"
          ],
          "name": "stdout"
        }
      ]
    },
    {
      "cell_type": "code",
      "metadata": {
        "id": "Ulgt3cTKoFAR"
      },
      "source": [
        "\n",
        "\n"
      ],
      "execution_count": 35,
      "outputs": []
    },
    {
      "cell_type": "code",
      "metadata": {
        "id": "63EyIWbtteKa"
      },
      "source": [
        ""
      ],
      "execution_count": null,
      "outputs": []
    }
  ]
}