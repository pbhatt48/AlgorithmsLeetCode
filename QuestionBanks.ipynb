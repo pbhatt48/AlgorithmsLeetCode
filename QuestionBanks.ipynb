{
  "nbformat": 4,
  "nbformat_minor": 0,
  "metadata": {
    "colab": {
      "name": "QuestionBanks.ipynb",
      "provenance": [],
      "authorship_tag": "ABX9TyPnssteDxlAba+mFtRSFj4a",
      "include_colab_link": true
    },
    "kernelspec": {
      "name": "python3",
      "display_name": "Python 3"
    }
  },
  "cells": [
    {
      "cell_type": "markdown",
      "metadata": {
        "id": "view-in-github",
        "colab_type": "text"
      },
      "source": [
        "<a href=\"https://colab.research.google.com/github/pbhatt48/AlgorithmsLeetCode/blob/main/QuestionBanks.ipynb\" target=\"_parent\"><img src=\"https://colab.research.google.com/assets/colab-badge.svg\" alt=\"Open In Colab\"/></a>"
      ]
    },
    {
      "cell_type": "code",
      "metadata": {
        "colab": {
          "base_uri": "https://localhost:8080/"
        },
        "id": "o3ipkRAs9RqF",
        "outputId": "fdcf8533-1cbb-411e-a9f1-f69415771abe"
      },
      "source": [
        "\n",
        "## INTERVIEW QUESTIONS\n",
        "#Epic systems: \n",
        "\n",
        "def triangel(values):\n",
        "  values = list(values)\n",
        "  print(','.join(str(v) for v in values))\n",
        "  lg = len(values)\n",
        "\n",
        "  for i in range(len(values)-1):\n",
        "    arr = []\n",
        "    for i in range(1, len(values)):\n",
        "      arr.append(values[i] + values[i-1])\n",
        "    print(','.join([str(k) for k in arr]))\n",
        "    values = arr\n",
        "    \n",
        "triangel((1,3,4,5,6))"
      ],
      "execution_count": null,
      "outputs": [
        {
          "output_type": "stream",
          "text": [
            "1,3,4,5,6\n",
            "4,7,9,11\n",
            "11,16,20\n",
            "27,36\n",
            "63\n"
          ],
          "name": "stdout"
        }
      ]
    },
    {
      "cell_type": "code",
      "metadata": {
        "colab": {
          "base_uri": "https://localhost:8080/"
        },
        "id": "eLMz8ejr9U1m",
        "outputId": "07c94952-5ac3-4a03-b690-1182a5363d4f"
      },
      "source": [
        "\n",
        "##Epic systems: \n",
        "#check for the multiples in the list\n",
        "def checkMult(nums):\n",
        "  get_multiples = []\n",
        "  lg = len(nums)\n",
        "  for i in range(lg):\n",
        "    for j in range(i+1, lg):\n",
        "      #print(\"nums[i] == \" , nums[i] , \"nums[j] == \", nums[j])\n",
        "      get_multiples.append(nums[i]*nums[j])\n",
        "  print(\"GET MULTIPLES == \", get_multiples)\n",
        "  for k in set(get_multiples):\n",
        "    if k in nums:\n",
        "      return True\n",
        "  return False\n",
        "\n",
        "  print(get_multiples)\n",
        "\n",
        "\n",
        "\n",
        "print(checkMult([1,2,3,4,5,8]))\n",
        "print(checkMult([2,3,4,5,7,23]))"
      ],
      "execution_count": null,
      "outputs": [
        {
          "output_type": "stream",
          "text": [
            "GET MULTIPLES ==  [2, 3, 4, 5, 8, 6, 8, 10, 16, 12, 15, 24, 20, 32, 40]\n",
            "True\n",
            "GET MULTIPLES ==  [6, 8, 10, 14, 46, 12, 15, 21, 69, 20, 28, 92, 35, 115, 161]\n",
            "False\n"
          ],
          "name": "stdout"
        }
      ]
    },
    {
      "cell_type": "code",
      "metadata": {
        "id": "9rEQQqst9U5D"
      },
      "source": [
        "\n",
        "#Interview Questions: IAI\n",
        "#What is DR and explain DR and one methodologies.\n",
        "#What is DT and explain supervised and unsupervised?\n",
        "#What is your OOP experience and explain encapsulation and polymerphism in OOP\n",
        "#DT vs RT vs ensemble methods?\n",
        "#Python wrapper on C++\n",
        "#Features selection\n",
        "#Describe your python development apps that you have developed ## IDE experienceSpyder\n",
        "#Bootstapping and ensemble\n",
        "#Why Gini and Entropy to measure the split? And what are these criterion?"
      ],
      "execution_count": null,
      "outputs": []
    },
    {
      "cell_type": "code",
      "metadata": {
        "id": "vILDDe5K9U99"
      },
      "source": [
        ""
      ],
      "execution_count": null,
      "outputs": []
    },
    {
      "cell_type": "code",
      "metadata": {
        "id": "00JOjaSI9VGL"
      },
      "source": [
        ""
      ],
      "execution_count": null,
      "outputs": []
    },
    {
      "cell_type": "code",
      "metadata": {
        "colab": {
          "base_uri": "https://localhost:8080/"
        },
        "id": "xR5VSHdY8yIN",
        "outputId": "e287403e-8c6d-4cf2-ad93-1a4c7f9cea4f"
      },
      "source": [
        "#https://www.geeksforgeeks.org/minimum-number-of-distinct-elements-after-removing-m-items-set-2/\n",
        "\n",
        "# 1. Declare a map.\n",
        "# 2. Set temp to 0.\n",
        "# 3. Count and store the frequencies of each element of the array into the map and check how many unique keys are present in it and set it as a cap.\n",
        "# 4. Traverse the map and check if the key element is less than or equal to m.\n",
        "#     1. If true then decrease the value of m up to that key and also increase the temp by 1.\n",
        "#     2. Else return cap-temp.\n",
        "# 5. Return cap-temp\n",
        "\n",
        "def distinctNumbers(arr, m, n):\n",
        " \n",
        "    count = {}\n",
        " \n",
        "    # Count the occurences of number\n",
        "    # and store in count\n",
        "    for i in range(n):\n",
        "        count[arr[i]] = count.get(arr[i], 0) + 1\n",
        " \n",
        "    # Count the occurences of the\n",
        "    # frequencies\n",
        "    fre_arr = [0] * (n + 1)\n",
        "    for it in count:\n",
        "        fre_arr[count[it]] += 1\n",
        "    \n",
        "    print(\"Count == \", count, \"Free arr == \", fre_arr)\n",
        " \n",
        "    # Take answer as total unique numbers\n",
        "    # and remove the frequency and\n",
        "    # subtract the answer\n",
        "    ans = len(count)\n",
        " \n",
        "    for i in range(1, n + 1):\n",
        "        temp = fre_arr[i]\n",
        "        if (temp == 0):\n",
        "            continue\n",
        "             \n",
        "        # Remove the minimum number\n",
        "        # of times\n",
        "        t = min(temp, m // i)\n",
        "        ans -= t\n",
        "        m -= i * t\n",
        " \n",
        "    # Return the answer\n",
        "    return ans\n",
        " \n",
        "# Driver Code\n",
        "if __name__ == '__main__':\n",
        " \n",
        "    # Initialize array\n",
        "    arr = [ 2, 4, 1, 5, 3, 5, 1, 3 ]\n",
        "    arr = [4, 1, 2 ,3 ,4 ,2]\n",
        " \n",
        "    # Size of array\n",
        "    n = len(arr)\n",
        "    m = 2\n",
        " \n",
        "    # Function call\n",
        "    print(distinctNumbers(arr, m, n))"
      ],
      "execution_count": null,
      "outputs": [
        {
          "output_type": "stream",
          "text": [
            "Count ==  {4: 2, 1: 1, 2: 2, 3: 1} Free arr ==  [0, 2, 2, 0, 0, 0, 0]\n",
            "2\n"
          ],
          "name": "stdout"
        }
      ]
    },
    {
      "cell_type": "code",
      "metadata": {
        "id": "9MS9B6MH884e"
      },
      "source": [
        "import numpy as np\n",
        "import pandas as pd"
      ],
      "execution_count": null,
      "outputs": []
    },
    {
      "cell_type": "code",
      "metadata": {
        "id": "oDSaJbXZW7T9"
      },
      "source": [
        "#SamGold\n",
        "#Fico\n",
        "#Product of number greater than x and sum is minimum"
      ],
      "execution_count": null,
      "outputs": []
    },
    {
      "cell_type": "code",
      "metadata": {
        "id": "FsYpyyCWhpQS"
      },
      "source": [
        "# Capital one preparation:\n",
        "# Questions from: till 80\n",
        "# https://www.glassdoor.com/Interview/Capital-One-Data-Scientist-Interview-Questions-EI_IE3736.0,11_KO12,26_IP8.htm?filter.jobTitleFTS=Data+Scientist\n",
        "# Explain the various steps involved in the model building process. Cleared the interview.\n",
        "# give me a data corresponding to customer call and agents, then ask me questions about data preprocess, \n",
        "# modeling, etc, to improve qualities of customer services.\n",
        "# The case is about the profitability of an email campaign and tech interview is about basic data analysis\n",
        "# SQL to calculate the click-through rate and one for python about URL\n",
        "# Plane delay prediction\n",
        "# tell me your projects on data science.\n",
        "# a data set of nyc taxi\n",
        "# Python questions related to data, like data ingestion, transformation, and modeling\n",
        "# graph description\n",
        "# Describe a time you encountered conflict at work and how did you resolve it\n",
        "# How would you explain the multinomial distribution and write python code on a whiteboard to represent this distribution\n",
        "# basic feature engineering , statistics and machine learning approach, you can code in Python or Scala and you communicate well, \n",
        "# the only difficult part would be the calculation of the case interview.\n",
        "# a mobile app case interview with a few numbers to calculate the break-even\n",
        "# how do you communicate the your model with business people\n",
        "# how do you detect multicollinearity?\n",
        "# how do you join two data sets?\n",
        "# How did you communicate results to non-technical audiences?\n",
        "# a case interview about an app like uber. the company want to develop the waterloo market. what need to consider?\n",
        "# why data scientist in capital one?\n",
        "# Describe a situation where you felt difficult to face.\n",
        "# Technical questions, walk through a mock- data science project. Some modeling questions. Explain what projects you have done in the past.\n",
        "# Explain how you would build a model to predict call length and route to appropriate agent at call center.\n",
        "# 2. Technical phone interview that went over credit card fraud case. Asked about what kind of model, features to engineer, false positive/false negative, regularization, and potential issues\n",
        "# 3. Data challenge- NYC taxi data. Basic summary info, describe a distribution, derive a variable, build a model to predict tips, and a problem of your choice (viz, anomaly detection, optimization, and a couple other options)\n",
        "# they give you an analysis with a regression/CART model and 15 minutes to analyze, explain, and provide recommendations. They asked about correlations, multicollinearity, p-values, ANOVA table, and improvements.\n",
        "# Behavioral- STAR questions\n",
        "\n",
        "# 2 consulting case studies- one was the P&L on a credit card product. break even, profit, and how to improve profit.\n",
        "\n",
        "# Job fit- met with a manager and they talked about the department, challenges, etc. This guy talked for an hour and may have asked one question about me\n",
        "\n",
        "# Technical- asked some machine learning questions about random forest, regularization, map reduce, and derive some equations by hand. This was the only interesting part.\n",
        "\n",
        "# I would not have wasted my time going through all this stuff had I known more about the actual position. They provided no information about the actual position and did not answer any questions about the actual work until the onsite. The projects they described didn't seem very interesting - some fraud detection, a search problem that matches logos to a billing statement, and gathering data on small businesses.\n",
        "# Interview Questions\n",
        "# Explain the bias-variance tradeoff.\n",
        "# Answer Question\n",
        "# http://scott.fortmann-roe.com/docs/BiasVariance.html\n",
        "# https://machinelearningmastery.com/gentle-introduction-to-the-bias-variance-trade-off-in-machine-learning/\n",
        "# https://towardsdatascience.com/understanding-the-bias-variance-tradeoff-165e6942b229\n",
        "\n",
        "# Write pseudocode for map reduce\n",
        "# Answer Question\n",
        "# What does regularization do?\n",
        "# Answer Question\n",
        "# Difference between random forest and gradient boosted tree.\n",
        "# Answer Question\n",
        "# Describe a time you worked on a team.\n",
        "# Answer Question\n",
        "# How do you learn something new?\n",
        "# Answer Question\n",
        "# Are false positives or false negatives more important?\n",
        "# 1 Answer\n",
        "# What is VIF (in regression output)?\n",
        "# Answer Question\n",
        "# Interpret this ANOVA table.\n",
        "# Tell me about a time you used someone else expertise to solve a problem.\n",
        "# Tell me about a time you learned something new and solved a problem.\n",
        "# 1 Answer\n",
        "# Tell me about your experience in neural network?\n",
        "# Given a dataset, how would you model it to extract a particular information. How would you architect the pipeline.\n",
        "\n",
        "# Role play on explaining regression/CART results.\n",
        "# Answer Question\n",
        "# Standard behavioral questions.\n",
        "# Answer Question\n",
        "# Simple technical interview on standard data science topics. Very high-level discussions.\n",
        "# How would you develop a model to predict credit card fraud?\n",
        "\n",
        "# How would you handle missing or garbage data?\n",
        "\n",
        "# How would you use existing features to add new features?\n",
        "# What machine learning model would you use to classify fraudulent transactions on credit cards?\n",
        "# Case Interview:\n",
        "# the case is the car finance loan.\n",
        "# - what are revenues and expenses\n",
        "# - given a model that predicts when a customer is good (loan should be approved) or bad (loadn should be decline) find out: 1. the probability that the customer is good given the model predicts good 2. the probability that the customer is bad given the model is good 3. given a pentile graph of # of checked off loans / # of loans what is a better model than the current; what is the best model.\n",
        "\n",
        "# Behavioral interview:\n",
        "# - tell me about a time that you had to deal with changing objectives in your team/project\n",
        "# - tell me about a time that you had to deal with unexpected problems in your project\n",
        "# - tell me about a time that you had to persuase somebody\n",
        "\n",
        "# Role interview:\n",
        "# the case is a report on air company with low percentage of flight on time. Read the report an give an evaluation of it and some reccomendations to your boss. 15 minutes to read the report and remove anything unecessary or spot errors. 20 minutes to present it to your boss. 15 minutes to discuss afterwards from data scientist to data scientist.\n",
        "# Case interview:\n",
        "# - rev: interests and late fees; costs: loan not paid, intereset for borrowing money, etc\n",
        "# - Bayes rule for 1 and 2. The third is a little bit of like put the missclassification at the end.\n",
        "# they also have logistic regression questions.\n",
        "\n",
        "# Three parts for the onsite, a behavioral interview(3 questions), a case interview(analyze a business situation) and a role-play interview(giving a presentation to your client who doesn't understand statistics)\n",
        "\n",
        "\n",
        "##My Interview::\n",
        "#Bayes theorem Maximum likelihood; conditional probability\n",
        "#Categorical variable filter in pandas\n",
        "#Random forest algorith why you would use and why it would work\n",
        "#In multiple classificataion which model to use\n",
        "#tell me the graphing libraries that you have used and pros and cons of it\n",
        "\n",
        "\n",
        "##Prudential\n",
        "## Data structures that you have worked in\n",
        "## Explain a project\n",
        "## have you deployed a model to production\n",
        "## stack vs queue\n",
        "## what do you mean by a stackoverflow \n",
        "## Why do you think you are a good fit for this job?\n",
        "\n",
        "\n"
      ],
      "execution_count": null,
      "outputs": []
    }
  ]
}