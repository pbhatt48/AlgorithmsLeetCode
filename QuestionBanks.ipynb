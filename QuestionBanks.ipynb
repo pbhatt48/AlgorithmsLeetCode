{
  "nbformat": 4,
  "nbformat_minor": 0,
  "metadata": {
    "colab": {
      "name": "QuestionBanks.ipynb",
      "provenance": [],
      "authorship_tag": "ABX9TyOF4tvotCGwovZk290CohqT",
      "include_colab_link": true
    },
    "kernelspec": {
      "name": "python3",
      "display_name": "Python 3"
    }
  },
  "cells": [
    {
      "cell_type": "markdown",
      "metadata": {
        "id": "view-in-github",
        "colab_type": "text"
      },
      "source": [
        "<a href=\"https://colab.research.google.com/github/pbhatt48/AlgorithmsLeetCode/blob/main/QuestionBanks.ipynb\" target=\"_parent\"><img src=\"https://colab.research.google.com/assets/colab-badge.svg\" alt=\"Open In Colab\"/></a>"
      ]
    },
    {
      "cell_type": "code",
      "metadata": {
        "colab": {
          "base_uri": "https://localhost:8080/"
        },
        "id": "o3ipkRAs9RqF",
        "outputId": "fdcf8533-1cbb-411e-a9f1-f69415771abe"
      },
      "source": [
        "\n",
        "## INTERVIEW QUESTIONS\n",
        "#Epic systems: \n",
        "\n",
        "def triangel(values):\n",
        "  values = list(values)\n",
        "  print(','.join(str(v) for v in values))\n",
        "  lg = len(values)\n",
        "\n",
        "  for i in range(len(values)-1):\n",
        "    arr = []\n",
        "    for i in range(1, len(values)):\n",
        "      arr.append(values[i] + values[i-1])\n",
        "    print(','.join([str(k) for k in arr]))\n",
        "    values = arr\n",
        "    \n",
        "triangel((1,3,4,5,6))"
      ],
      "execution_count": 3,
      "outputs": [
        {
          "output_type": "stream",
          "text": [
            "1,3,4,5,6\n",
            "4,7,9,11\n",
            "11,16,20\n",
            "27,36\n",
            "63\n"
          ],
          "name": "stdout"
        }
      ]
    },
    {
      "cell_type": "code",
      "metadata": {
        "colab": {
          "base_uri": "https://localhost:8080/"
        },
        "id": "eLMz8ejr9U1m",
        "outputId": "07c94952-5ac3-4a03-b690-1182a5363d4f"
      },
      "source": [
        "\n",
        "##Epic systems: \n",
        "#check for the multiples in the list\n",
        "def checkMult(nums):\n",
        "  get_multiples = []\n",
        "  lg = len(nums)\n",
        "  for i in range(lg):\n",
        "    for j in range(i+1, lg):\n",
        "      #print(\"nums[i] == \" , nums[i] , \"nums[j] == \", nums[j])\n",
        "      get_multiples.append(nums[i]*nums[j])\n",
        "  print(\"GET MULTIPLES == \", get_multiples)\n",
        "  for k in set(get_multiples):\n",
        "    if k in nums:\n",
        "      return True\n",
        "  return False\n",
        "\n",
        "  print(get_multiples)\n",
        "\n",
        "\n",
        "\n",
        "print(checkMult([1,2,3,4,5,8]))\n",
        "print(checkMult([2,3,4,5,7,23]))"
      ],
      "execution_count": 5,
      "outputs": [
        {
          "output_type": "stream",
          "text": [
            "GET MULTIPLES ==  [2, 3, 4, 5, 8, 6, 8, 10, 16, 12, 15, 24, 20, 32, 40]\n",
            "True\n",
            "GET MULTIPLES ==  [6, 8, 10, 14, 46, 12, 15, 21, 69, 20, 28, 92, 35, 115, 161]\n",
            "False\n"
          ],
          "name": "stdout"
        }
      ]
    },
    {
      "cell_type": "code",
      "metadata": {
        "id": "9rEQQqst9U5D"
      },
      "source": [
        "\n",
        "#Interview Questions: IAI\n",
        "#What is DR and explain DR and one methodologies.\n",
        "#What is DT and explain supervised and unsupervised?\n",
        "#What is your OOP experience and explain encapsulation and polymerphism in OOP\n",
        "#DT vs RT vs ensemble methods?\n",
        "#Python wrapper on C++\n",
        "#Features selection\n",
        "#Describe your python development apps that you have developed ## IDE experienceSpyder\n",
        "#Bootstapping and ensemble\n",
        "#Why Gini and Entropy to measure the split? And what are these criterion?"
      ],
      "execution_count": 6,
      "outputs": []
    },
    {
      "cell_type": "code",
      "metadata": {
        "id": "vILDDe5K9U99"
      },
      "source": [
        ""
      ],
      "execution_count": null,
      "outputs": []
    },
    {
      "cell_type": "code",
      "metadata": {
        "id": "00JOjaSI9VGL"
      },
      "source": [
        ""
      ],
      "execution_count": null,
      "outputs": []
    },
    {
      "cell_type": "code",
      "metadata": {
        "colab": {
          "base_uri": "https://localhost:8080/"
        },
        "id": "xR5VSHdY8yIN",
        "outputId": "e287403e-8c6d-4cf2-ad93-1a4c7f9cea4f"
      },
      "source": [
        "#https://www.geeksforgeeks.org/minimum-number-of-distinct-elements-after-removing-m-items-set-2/\n",
        "\n",
        "# 1. Declare a map.\n",
        "# 2. Set temp to 0.\n",
        "# 3. Count and store the frequencies of each element of the array into the map and check how many unique keys are present in it and set it as a cap.\n",
        "# 4. Traverse the map and check if the key element is less than or equal to m.\n",
        "#     1. If true then decrease the value of m up to that key and also increase the temp by 1.\n",
        "#     2. Else return cap-temp.\n",
        "# 5. Return cap-temp\n",
        "\n",
        "def distinctNumbers(arr, m, n):\n",
        " \n",
        "    count = {}\n",
        " \n",
        "    # Count the occurences of number\n",
        "    # and store in count\n",
        "    for i in range(n):\n",
        "        count[arr[i]] = count.get(arr[i], 0) + 1\n",
        " \n",
        "    # Count the occurences of the\n",
        "    # frequencies\n",
        "    fre_arr = [0] * (n + 1)\n",
        "    for it in count:\n",
        "        fre_arr[count[it]] += 1\n",
        "    \n",
        "    print(\"Count == \", count, \"Free arr == \", fre_arr)\n",
        " \n",
        "    # Take answer as total unique numbers\n",
        "    # and remove the frequency and\n",
        "    # subtract the answer\n",
        "    ans = len(count)\n",
        " \n",
        "    for i in range(1, n + 1):\n",
        "        temp = fre_arr[i]\n",
        "        if (temp == 0):\n",
        "            continue\n",
        "             \n",
        "        # Remove the minimum number\n",
        "        # of times\n",
        "        t = min(temp, m // i)\n",
        "        ans -= t\n",
        "        m -= i * t\n",
        " \n",
        "    # Return the answer\n",
        "    return ans\n",
        " \n",
        "# Driver Code\n",
        "if __name__ == '__main__':\n",
        " \n",
        "    # Initialize array\n",
        "    arr = [ 2, 4, 1, 5, 3, 5, 1, 3 ]\n",
        "    arr = [4, 1, 2 ,3 ,4 ,2]\n",
        " \n",
        "    # Size of array\n",
        "    n = len(arr)\n",
        "    m = 2\n",
        " \n",
        "    # Function call\n",
        "    print(distinctNumbers(arr, m, n))"
      ],
      "execution_count": 2,
      "outputs": [
        {
          "output_type": "stream",
          "text": [
            "Count ==  {4: 2, 1: 1, 2: 2, 3: 1} Free arr ==  [0, 2, 2, 0, 0, 0, 0]\n",
            "2\n"
          ],
          "name": "stdout"
        }
      ]
    },
    {
      "cell_type": "code",
      "metadata": {
        "id": "9MS9B6MH884e"
      },
      "source": [
        ""
      ],
      "execution_count": null,
      "outputs": []
    }
  ]
}